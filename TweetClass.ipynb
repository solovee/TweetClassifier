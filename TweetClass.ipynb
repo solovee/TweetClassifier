{
  "nbformat": 4,
  "nbformat_minor": 0,
  "metadata": {
    "colab": {
      "provenance": [],
      "include_colab_link": true
    },
    "kernelspec": {
      "name": "python3",
      "display_name": "Python 3"
    },
    "accelerator": "GPU"
  },
  "cells": [
    {
      "cell_type": "markdown",
      "metadata": {
        "id": "view-in-github",
        "colab_type": "text"
      },
      "source": [
        "<a href=\"https://colab.research.google.com/github/solovee/TweetClassifier/blob/main/TweetClass.ipynb\" target=\"_parent\"><img src=\"https://colab.research.google.com/assets/colab-badge.svg\" alt=\"Open In Colab\"/></a>"
      ]
    },
    {
      "cell_type": "markdown",
      "metadata": {
        "id": "AGgw36kc8udU"
      },
      "source": [
        "# Classificação de textos do Twitter com spaCy"
      ]
    },
    {
      "cell_type": "markdown",
      "metadata": {
        "id": "JtJGnXGi8zt9"
      },
      "source": [
        "# Importação e instalação das bibliotecas"
      ]
    },
    {
      "cell_type": "code",
      "metadata": {
        "id": "Xh86jT1k_299",
        "colab": {
          "base_uri": "https://localhost:8080/"
        },
        "outputId": "3ee13fda-ad1a-4731-c9b2-7f3a4cdbfcb9"
      },
      "source": [
        "!pip install spacy"
      ],
      "execution_count": null,
      "outputs": [
        {
          "output_type": "stream",
          "name": "stdout",
          "text": [
            "Requirement already satisfied: spacy in /usr/local/lib/python3.10/dist-packages (3.6.1)\n",
            "Requirement already satisfied: spacy-legacy<3.1.0,>=3.0.11 in /usr/local/lib/python3.10/dist-packages (from spacy) (3.0.12)\n",
            "Requirement already satisfied: spacy-loggers<2.0.0,>=1.0.0 in /usr/local/lib/python3.10/dist-packages (from spacy) (1.0.4)\n",
            "Requirement already satisfied: murmurhash<1.1.0,>=0.28.0 in /usr/local/lib/python3.10/dist-packages (from spacy) (1.0.9)\n",
            "Requirement already satisfied: cymem<2.1.0,>=2.0.2 in /usr/local/lib/python3.10/dist-packages (from spacy) (2.0.7)\n",
            "Requirement already satisfied: preshed<3.1.0,>=3.0.2 in /usr/local/lib/python3.10/dist-packages (from spacy) (3.0.8)\n",
            "Requirement already satisfied: thinc<8.2.0,>=8.1.8 in /usr/local/lib/python3.10/dist-packages (from spacy) (8.1.11)\n",
            "Requirement already satisfied: wasabi<1.2.0,>=0.9.1 in /usr/local/lib/python3.10/dist-packages (from spacy) (1.1.2)\n",
            "Requirement already satisfied: srsly<3.0.0,>=2.4.3 in /usr/local/lib/python3.10/dist-packages (from spacy) (2.4.7)\n",
            "Requirement already satisfied: catalogue<2.1.0,>=2.0.6 in /usr/local/lib/python3.10/dist-packages (from spacy) (2.0.9)\n",
            "Requirement already satisfied: typer<0.10.0,>=0.3.0 in /usr/local/lib/python3.10/dist-packages (from spacy) (0.9.0)\n",
            "Requirement already satisfied: pathy>=0.10.0 in /usr/local/lib/python3.10/dist-packages (from spacy) (0.10.2)\n",
            "Requirement already satisfied: smart-open<7.0.0,>=5.2.1 in /usr/local/lib/python3.10/dist-packages (from spacy) (6.3.0)\n",
            "Requirement already satisfied: tqdm<5.0.0,>=4.38.0 in /usr/local/lib/python3.10/dist-packages (from spacy) (4.66.0)\n",
            "Requirement already satisfied: numpy>=1.15.0 in /usr/local/lib/python3.10/dist-packages (from spacy) (1.23.5)\n",
            "Requirement already satisfied: requests<3.0.0,>=2.13.0 in /usr/local/lib/python3.10/dist-packages (from spacy) (2.31.0)\n",
            "Requirement already satisfied: pydantic!=1.8,!=1.8.1,<3.0.0,>=1.7.4 in /usr/local/lib/python3.10/dist-packages (from spacy) (2.1.1)\n",
            "Requirement already satisfied: jinja2 in /usr/local/lib/python3.10/dist-packages (from spacy) (3.1.2)\n",
            "Requirement already satisfied: setuptools in /usr/local/lib/python3.10/dist-packages (from spacy) (67.7.2)\n",
            "Requirement already satisfied: packaging>=20.0 in /usr/local/lib/python3.10/dist-packages (from spacy) (23.1)\n",
            "Requirement already satisfied: langcodes<4.0.0,>=3.2.0 in /usr/local/lib/python3.10/dist-packages (from spacy) (3.3.0)\n",
            "Requirement already satisfied: annotated-types>=0.4.0 in /usr/local/lib/python3.10/dist-packages (from pydantic!=1.8,!=1.8.1,<3.0.0,>=1.7.4->spacy) (0.5.0)\n",
            "Requirement already satisfied: pydantic-core==2.4.0 in /usr/local/lib/python3.10/dist-packages (from pydantic!=1.8,!=1.8.1,<3.0.0,>=1.7.4->spacy) (2.4.0)\n",
            "Requirement already satisfied: typing-extensions>=4.6.1 in /usr/local/lib/python3.10/dist-packages (from pydantic!=1.8,!=1.8.1,<3.0.0,>=1.7.4->spacy) (4.7.1)\n",
            "Requirement already satisfied: charset-normalizer<4,>=2 in /usr/local/lib/python3.10/dist-packages (from requests<3.0.0,>=2.13.0->spacy) (3.2.0)\n",
            "Requirement already satisfied: idna<4,>=2.5 in /usr/local/lib/python3.10/dist-packages (from requests<3.0.0,>=2.13.0->spacy) (3.4)\n",
            "Requirement already satisfied: urllib3<3,>=1.21.1 in /usr/local/lib/python3.10/dist-packages (from requests<3.0.0,>=2.13.0->spacy) (2.0.4)\n",
            "Requirement already satisfied: certifi>=2017.4.17 in /usr/local/lib/python3.10/dist-packages (from requests<3.0.0,>=2.13.0->spacy) (2023.7.22)\n",
            "Requirement already satisfied: blis<0.8.0,>=0.7.8 in /usr/local/lib/python3.10/dist-packages (from thinc<8.2.0,>=8.1.8->spacy) (0.7.10)\n",
            "Requirement already satisfied: confection<1.0.0,>=0.0.1 in /usr/local/lib/python3.10/dist-packages (from thinc<8.2.0,>=8.1.8->spacy) (0.1.1)\n",
            "Requirement already satisfied: click<9.0.0,>=7.1.1 in /usr/local/lib/python3.10/dist-packages (from typer<0.10.0,>=0.3.0->spacy) (8.1.6)\n",
            "Requirement already satisfied: MarkupSafe>=2.0 in /usr/local/lib/python3.10/dist-packages (from jinja2->spacy) (2.1.3)\n"
          ]
        }
      ]
    },
    {
      "cell_type": "code",
      "metadata": {
        "id": "T1ZYK4Svri9a",
        "colab": {
          "base_uri": "https://localhost:8080/",
          "height": 36
        },
        "outputId": "ac1a2c1a-604b-43f8-e6d6-2f0f82aa7749"
      },
      "source": [
        "import spacy\n",
        "spacy.__version__"
      ],
      "execution_count": null,
      "outputs": [
        {
          "output_type": "execute_result",
          "data": {
            "text/plain": [
              "'3.6.1'"
            ],
            "application/vnd.google.colaboratory.intrinsic+json": {
              "type": "string"
            }
          },
          "metadata": {},
          "execution_count": 5
        }
      ]
    },
    {
      "cell_type": "code",
      "metadata": {
        "id": "BbXiQKovAAy_",
        "colab": {
          "base_uri": "https://localhost:8080/"
        },
        "outputId": "8b252480-02d7-4970-a6a1-59e024675215"
      },
      "source": [
        "!python -m spacy download pt_core_news_sm"
      ],
      "execution_count": null,
      "outputs": [
        {
          "output_type": "stream",
          "name": "stdout",
          "text": [
            "2023-08-14 11:15:50.493136: W tensorflow/compiler/tf2tensorrt/utils/py_utils.cc:38] TF-TRT Warning: Could not find TensorRT\n",
            "Collecting pt-core-news-sm==3.6.0\n",
            "  Downloading https://github.com/explosion/spacy-models/releases/download/pt_core_news_sm-3.6.0/pt_core_news_sm-3.6.0-py3-none-any.whl (13.0 MB)\n",
            "\u001b[2K     \u001b[90m━━━━━━━━━━━━━━━━━━━━━━━━━━━━━━━━━━━━━━━━\u001b[0m \u001b[32m13.0/13.0 MB\u001b[0m \u001b[31m80.8 MB/s\u001b[0m eta \u001b[36m0:00:00\u001b[0m\n",
            "\u001b[?25hRequirement already satisfied: spacy<3.7.0,>=3.6.0 in /usr/local/lib/python3.10/dist-packages (from pt-core-news-sm==3.6.0) (3.6.1)\n",
            "Requirement already satisfied: spacy-legacy<3.1.0,>=3.0.11 in /usr/local/lib/python3.10/dist-packages (from spacy<3.7.0,>=3.6.0->pt-core-news-sm==3.6.0) (3.0.12)\n",
            "Requirement already satisfied: spacy-loggers<2.0.0,>=1.0.0 in /usr/local/lib/python3.10/dist-packages (from spacy<3.7.0,>=3.6.0->pt-core-news-sm==3.6.0) (1.0.4)\n",
            "Requirement already satisfied: murmurhash<1.1.0,>=0.28.0 in /usr/local/lib/python3.10/dist-packages (from spacy<3.7.0,>=3.6.0->pt-core-news-sm==3.6.0) (1.0.9)\n",
            "Requirement already satisfied: cymem<2.1.0,>=2.0.2 in /usr/local/lib/python3.10/dist-packages (from spacy<3.7.0,>=3.6.0->pt-core-news-sm==3.6.0) (2.0.7)\n",
            "Requirement already satisfied: preshed<3.1.0,>=3.0.2 in /usr/local/lib/python3.10/dist-packages (from spacy<3.7.0,>=3.6.0->pt-core-news-sm==3.6.0) (3.0.8)\n",
            "Requirement already satisfied: thinc<8.2.0,>=8.1.8 in /usr/local/lib/python3.10/dist-packages (from spacy<3.7.0,>=3.6.0->pt-core-news-sm==3.6.0) (8.1.11)\n",
            "Requirement already satisfied: wasabi<1.2.0,>=0.9.1 in /usr/local/lib/python3.10/dist-packages (from spacy<3.7.0,>=3.6.0->pt-core-news-sm==3.6.0) (1.1.2)\n",
            "Requirement already satisfied: srsly<3.0.0,>=2.4.3 in /usr/local/lib/python3.10/dist-packages (from spacy<3.7.0,>=3.6.0->pt-core-news-sm==3.6.0) (2.4.7)\n",
            "Requirement already satisfied: catalogue<2.1.0,>=2.0.6 in /usr/local/lib/python3.10/dist-packages (from spacy<3.7.0,>=3.6.0->pt-core-news-sm==3.6.0) (2.0.9)\n",
            "Requirement already satisfied: typer<0.10.0,>=0.3.0 in /usr/local/lib/python3.10/dist-packages (from spacy<3.7.0,>=3.6.0->pt-core-news-sm==3.6.0) (0.9.0)\n",
            "Requirement already satisfied: pathy>=0.10.0 in /usr/local/lib/python3.10/dist-packages (from spacy<3.7.0,>=3.6.0->pt-core-news-sm==3.6.0) (0.10.2)\n",
            "Requirement already satisfied: smart-open<7.0.0,>=5.2.1 in /usr/local/lib/python3.10/dist-packages (from spacy<3.7.0,>=3.6.0->pt-core-news-sm==3.6.0) (6.3.0)\n",
            "Requirement already satisfied: tqdm<5.0.0,>=4.38.0 in /usr/local/lib/python3.10/dist-packages (from spacy<3.7.0,>=3.6.0->pt-core-news-sm==3.6.0) (4.66.0)\n",
            "Requirement already satisfied: numpy>=1.15.0 in /usr/local/lib/python3.10/dist-packages (from spacy<3.7.0,>=3.6.0->pt-core-news-sm==3.6.0) (1.23.5)\n",
            "Requirement already satisfied: requests<3.0.0,>=2.13.0 in /usr/local/lib/python3.10/dist-packages (from spacy<3.7.0,>=3.6.0->pt-core-news-sm==3.6.0) (2.31.0)\n",
            "Requirement already satisfied: pydantic!=1.8,!=1.8.1,<3.0.0,>=1.7.4 in /usr/local/lib/python3.10/dist-packages (from spacy<3.7.0,>=3.6.0->pt-core-news-sm==3.6.0) (2.1.1)\n",
            "Requirement already satisfied: jinja2 in /usr/local/lib/python3.10/dist-packages (from spacy<3.7.0,>=3.6.0->pt-core-news-sm==3.6.0) (3.1.2)\n",
            "Requirement already satisfied: setuptools in /usr/local/lib/python3.10/dist-packages (from spacy<3.7.0,>=3.6.0->pt-core-news-sm==3.6.0) (67.7.2)\n",
            "Requirement already satisfied: packaging>=20.0 in /usr/local/lib/python3.10/dist-packages (from spacy<3.7.0,>=3.6.0->pt-core-news-sm==3.6.0) (23.1)\n",
            "Requirement already satisfied: langcodes<4.0.0,>=3.2.0 in /usr/local/lib/python3.10/dist-packages (from spacy<3.7.0,>=3.6.0->pt-core-news-sm==3.6.0) (3.3.0)\n",
            "Requirement already satisfied: annotated-types>=0.4.0 in /usr/local/lib/python3.10/dist-packages (from pydantic!=1.8,!=1.8.1,<3.0.0,>=1.7.4->spacy<3.7.0,>=3.6.0->pt-core-news-sm==3.6.0) (0.5.0)\n",
            "Requirement already satisfied: pydantic-core==2.4.0 in /usr/local/lib/python3.10/dist-packages (from pydantic!=1.8,!=1.8.1,<3.0.0,>=1.7.4->spacy<3.7.0,>=3.6.0->pt-core-news-sm==3.6.0) (2.4.0)\n",
            "Requirement already satisfied: typing-extensions>=4.6.1 in /usr/local/lib/python3.10/dist-packages (from pydantic!=1.8,!=1.8.1,<3.0.0,>=1.7.4->spacy<3.7.0,>=3.6.0->pt-core-news-sm==3.6.0) (4.7.1)\n",
            "Requirement already satisfied: charset-normalizer<4,>=2 in /usr/local/lib/python3.10/dist-packages (from requests<3.0.0,>=2.13.0->spacy<3.7.0,>=3.6.0->pt-core-news-sm==3.6.0) (3.2.0)\n",
            "Requirement already satisfied: idna<4,>=2.5 in /usr/local/lib/python3.10/dist-packages (from requests<3.0.0,>=2.13.0->spacy<3.7.0,>=3.6.0->pt-core-news-sm==3.6.0) (3.4)\n",
            "Requirement already satisfied: urllib3<3,>=1.21.1 in /usr/local/lib/python3.10/dist-packages (from requests<3.0.0,>=2.13.0->spacy<3.7.0,>=3.6.0->pt-core-news-sm==3.6.0) (2.0.4)\n",
            "Requirement already satisfied: certifi>=2017.4.17 in /usr/local/lib/python3.10/dist-packages (from requests<3.0.0,>=2.13.0->spacy<3.7.0,>=3.6.0->pt-core-news-sm==3.6.0) (2023.7.22)\n",
            "Requirement already satisfied: blis<0.8.0,>=0.7.8 in /usr/local/lib/python3.10/dist-packages (from thinc<8.2.0,>=8.1.8->spacy<3.7.0,>=3.6.0->pt-core-news-sm==3.6.0) (0.7.10)\n",
            "Requirement already satisfied: confection<1.0.0,>=0.0.1 in /usr/local/lib/python3.10/dist-packages (from thinc<8.2.0,>=8.1.8->spacy<3.7.0,>=3.6.0->pt-core-news-sm==3.6.0) (0.1.1)\n",
            "Requirement already satisfied: click<9.0.0,>=7.1.1 in /usr/local/lib/python3.10/dist-packages (from typer<0.10.0,>=0.3.0->spacy<3.7.0,>=3.6.0->pt-core-news-sm==3.6.0) (8.1.6)\n",
            "Requirement already satisfied: MarkupSafe>=2.0 in /usr/local/lib/python3.10/dist-packages (from jinja2->spacy<3.7.0,>=3.6.0->pt-core-news-sm==3.6.0) (2.1.3)\n",
            "\u001b[38;5;2m✔ Download and installation successful\u001b[0m\n",
            "You can now load the package via spacy.load('pt_core_news_sm')\n"
          ]
        }
      ]
    },
    {
      "cell_type": "code",
      "metadata": {
        "id": "DelYAveq8yuX"
      },
      "source": [
        "import pandas as pd\n",
        "import string\n",
        "import spacy\n",
        "import en_core_web_sm\n",
        "import random\n",
        "import seaborn as sns\n",
        "import numpy as np\n",
        "import re"
      ],
      "execution_count": null,
      "outputs": []
    },
    {
      "cell_type": "markdown",
      "metadata": {
        "id": "iE3VMD8t86ky"
      },
      "source": [
        "# Carregamento das bases de dados\n",
        "\n",
        "- Link Kaggle: https://www.kaggle.com/augustop/portuguese-tweets-for-sentiment-analysis#TweetsNeutralHash.csv"
      ]
    },
    {
      "cell_type": "markdown",
      "metadata": {
        "id": "472HCiGNxsGm"
      },
      "source": [
        "## Base de treinamento\n",
        "\n",
        "- Negative label: 0\n",
        "- Positive label: 1"
      ]
    },
    {
      "cell_type": "code",
      "metadata": {
        "id": "jqsZesTIj1D1"
      },
      "source": [
        "base_treinamento = pd.read_csv('/content/Train50.csv', delimiter=';')"
      ],
      "execution_count": null,
      "outputs": []
    },
    {
      "cell_type": "code",
      "metadata": {
        "id": "kkNNr-fokG5Z",
        "colab": {
          "base_uri": "https://localhost:8080/"
        },
        "outputId": "cc5166bd-5be2-4c63-f7ca-dbe196b0144b"
      },
      "source": [
        "base_treinamento.shape"
      ],
      "execution_count": null,
      "outputs": [
        {
          "output_type": "execute_result",
          "data": {
            "text/plain": [
              "(50000, 5)"
            ]
          },
          "metadata": {},
          "execution_count": 10
        }
      ]
    },
    {
      "cell_type": "code",
      "metadata": {
        "id": "ian62Lo5kKXp",
        "colab": {
          "base_uri": "https://localhost:8080/",
          "height": 206
        },
        "outputId": "efbfca3d-4056-49b4-9cde-9a3d667c51d7"
      },
      "source": [
        "base_treinamento.head()"
      ],
      "execution_count": null,
      "outputs": [
        {
          "output_type": "execute_result",
          "data": {
            "text/plain": [
              "                    id                                         tweet_text  \\\n",
              "0  1050785521201541121  @Laranjito76 A pessoa certa para isso seria o ...   \n",
              "1  1050785431955140608  @behin_d_curtain Para mim, é precisamente o co...   \n",
              "2  1050785401248645120  Vou fazer um video hoje... estou pensando em f...   \n",
              "3  1050785370982547461  aaaaaaaa amei tanto essas polaroids, nem sei e...   \n",
              "4  1050785368902131713  Valoriza o coração do menininho que vc tem. El...   \n",
              "\n",
              "                       tweet_date  sentiment query_used  \n",
              "0  Fri Oct 12 16:29:25 +0000 2018          1         :)  \n",
              "1  Fri Oct 12 16:29:04 +0000 2018          1         :)  \n",
              "2  Fri Oct 12 16:28:56 +0000 2018          1         :)  \n",
              "3  Fri Oct 12 16:28:49 +0000 2018          1         :)  \n",
              "4  Fri Oct 12 16:28:49 +0000 2018          1         :)  "
            ],
            "text/html": [
              "\n",
              "\n",
              "  <div id=\"df-36bea3d4-1d63-4638-8788-5f81531aac12\">\n",
              "    <div class=\"colab-df-container\">\n",
              "      <div>\n",
              "<style scoped>\n",
              "    .dataframe tbody tr th:only-of-type {\n",
              "        vertical-align: middle;\n",
              "    }\n",
              "\n",
              "    .dataframe tbody tr th {\n",
              "        vertical-align: top;\n",
              "    }\n",
              "\n",
              "    .dataframe thead th {\n",
              "        text-align: right;\n",
              "    }\n",
              "</style>\n",
              "<table border=\"1\" class=\"dataframe\">\n",
              "  <thead>\n",
              "    <tr style=\"text-align: right;\">\n",
              "      <th></th>\n",
              "      <th>id</th>\n",
              "      <th>tweet_text</th>\n",
              "      <th>tweet_date</th>\n",
              "      <th>sentiment</th>\n",
              "      <th>query_used</th>\n",
              "    </tr>\n",
              "  </thead>\n",
              "  <tbody>\n",
              "    <tr>\n",
              "      <th>0</th>\n",
              "      <td>1050785521201541121</td>\n",
              "      <td>@Laranjito76 A pessoa certa para isso seria o ...</td>\n",
              "      <td>Fri Oct 12 16:29:25 +0000 2018</td>\n",
              "      <td>1</td>\n",
              "      <td>:)</td>\n",
              "    </tr>\n",
              "    <tr>\n",
              "      <th>1</th>\n",
              "      <td>1050785431955140608</td>\n",
              "      <td>@behin_d_curtain Para mim, é precisamente o co...</td>\n",
              "      <td>Fri Oct 12 16:29:04 +0000 2018</td>\n",
              "      <td>1</td>\n",
              "      <td>:)</td>\n",
              "    </tr>\n",
              "    <tr>\n",
              "      <th>2</th>\n",
              "      <td>1050785401248645120</td>\n",
              "      <td>Vou fazer um video hoje... estou pensando em f...</td>\n",
              "      <td>Fri Oct 12 16:28:56 +0000 2018</td>\n",
              "      <td>1</td>\n",
              "      <td>:)</td>\n",
              "    </tr>\n",
              "    <tr>\n",
              "      <th>3</th>\n",
              "      <td>1050785370982547461</td>\n",
              "      <td>aaaaaaaa amei tanto essas polaroids, nem sei e...</td>\n",
              "      <td>Fri Oct 12 16:28:49 +0000 2018</td>\n",
              "      <td>1</td>\n",
              "      <td>:)</td>\n",
              "    </tr>\n",
              "    <tr>\n",
              "      <th>4</th>\n",
              "      <td>1050785368902131713</td>\n",
              "      <td>Valoriza o coração do menininho que vc tem. El...</td>\n",
              "      <td>Fri Oct 12 16:28:49 +0000 2018</td>\n",
              "      <td>1</td>\n",
              "      <td>:)</td>\n",
              "    </tr>\n",
              "  </tbody>\n",
              "</table>\n",
              "</div>\n",
              "      <button class=\"colab-df-convert\" onclick=\"convertToInteractive('df-36bea3d4-1d63-4638-8788-5f81531aac12')\"\n",
              "              title=\"Convert this dataframe to an interactive table.\"\n",
              "              style=\"display:none;\">\n",
              "\n",
              "  <svg xmlns=\"http://www.w3.org/2000/svg\" height=\"24px\"viewBox=\"0 0 24 24\"\n",
              "       width=\"24px\">\n",
              "    <path d=\"M0 0h24v24H0V0z\" fill=\"none\"/>\n",
              "    <path d=\"M18.56 5.44l.94 2.06.94-2.06 2.06-.94-2.06-.94-.94-2.06-.94 2.06-2.06.94zm-11 1L8.5 8.5l.94-2.06 2.06-.94-2.06-.94L8.5 2.5l-.94 2.06-2.06.94zm10 10l.94 2.06.94-2.06 2.06-.94-2.06-.94-.94-2.06-.94 2.06-2.06.94z\"/><path d=\"M17.41 7.96l-1.37-1.37c-.4-.4-.92-.59-1.43-.59-.52 0-1.04.2-1.43.59L10.3 9.45l-7.72 7.72c-.78.78-.78 2.05 0 2.83L4 21.41c.39.39.9.59 1.41.59.51 0 1.02-.2 1.41-.59l7.78-7.78 2.81-2.81c.8-.78.8-2.07 0-2.86zM5.41 20L4 18.59l7.72-7.72 1.47 1.35L5.41 20z\"/>\n",
              "  </svg>\n",
              "      </button>\n",
              "\n",
              "\n",
              "\n",
              "    <div id=\"df-16d457e2-f383-41e7-b598-8f938177bbf0\">\n",
              "      <button class=\"colab-df-quickchart\" onclick=\"quickchart('df-16d457e2-f383-41e7-b598-8f938177bbf0')\"\n",
              "              title=\"Suggest charts.\"\n",
              "              style=\"display:none;\">\n",
              "\n",
              "<svg xmlns=\"http://www.w3.org/2000/svg\" height=\"24px\"viewBox=\"0 0 24 24\"\n",
              "     width=\"24px\">\n",
              "    <g>\n",
              "        <path d=\"M19 3H5c-1.1 0-2 .9-2 2v14c0 1.1.9 2 2 2h14c1.1 0 2-.9 2-2V5c0-1.1-.9-2-2-2zM9 17H7v-7h2v7zm4 0h-2V7h2v10zm4 0h-2v-4h2v4z\"/>\n",
              "    </g>\n",
              "</svg>\n",
              "      </button>\n",
              "    </div>\n",
              "\n",
              "<style>\n",
              "  .colab-df-quickchart {\n",
              "    background-color: #E8F0FE;\n",
              "    border: none;\n",
              "    border-radius: 50%;\n",
              "    cursor: pointer;\n",
              "    display: none;\n",
              "    fill: #1967D2;\n",
              "    height: 32px;\n",
              "    padding: 0 0 0 0;\n",
              "    width: 32px;\n",
              "  }\n",
              "\n",
              "  .colab-df-quickchart:hover {\n",
              "    background-color: #E2EBFA;\n",
              "    box-shadow: 0px 1px 2px rgba(60, 64, 67, 0.3), 0px 1px 3px 1px rgba(60, 64, 67, 0.15);\n",
              "    fill: #174EA6;\n",
              "  }\n",
              "\n",
              "  [theme=dark] .colab-df-quickchart {\n",
              "    background-color: #3B4455;\n",
              "    fill: #D2E3FC;\n",
              "  }\n",
              "\n",
              "  [theme=dark] .colab-df-quickchart:hover {\n",
              "    background-color: #434B5C;\n",
              "    box-shadow: 0px 1px 3px 1px rgba(0, 0, 0, 0.15);\n",
              "    filter: drop-shadow(0px 1px 2px rgba(0, 0, 0, 0.3));\n",
              "    fill: #FFFFFF;\n",
              "  }\n",
              "</style>\n",
              "\n",
              "    <script>\n",
              "      async function quickchart(key) {\n",
              "        const containerElement = document.querySelector('#' + key);\n",
              "        const charts = await google.colab.kernel.invokeFunction(\n",
              "            'suggestCharts', [key], {});\n",
              "      }\n",
              "    </script>\n",
              "\n",
              "      <script>\n",
              "\n",
              "function displayQuickchartButton(domScope) {\n",
              "  let quickchartButtonEl =\n",
              "    domScope.querySelector('#df-16d457e2-f383-41e7-b598-8f938177bbf0 button.colab-df-quickchart');\n",
              "  quickchartButtonEl.style.display =\n",
              "    google.colab.kernel.accessAllowed ? 'block' : 'none';\n",
              "}\n",
              "\n",
              "        displayQuickchartButton(document);\n",
              "      </script>\n",
              "      <style>\n",
              "    .colab-df-container {\n",
              "      display:flex;\n",
              "      flex-wrap:wrap;\n",
              "      gap: 12px;\n",
              "    }\n",
              "\n",
              "    .colab-df-convert {\n",
              "      background-color: #E8F0FE;\n",
              "      border: none;\n",
              "      border-radius: 50%;\n",
              "      cursor: pointer;\n",
              "      display: none;\n",
              "      fill: #1967D2;\n",
              "      height: 32px;\n",
              "      padding: 0 0 0 0;\n",
              "      width: 32px;\n",
              "    }\n",
              "\n",
              "    .colab-df-convert:hover {\n",
              "      background-color: #E2EBFA;\n",
              "      box-shadow: 0px 1px 2px rgba(60, 64, 67, 0.3), 0px 1px 3px 1px rgba(60, 64, 67, 0.15);\n",
              "      fill: #174EA6;\n",
              "    }\n",
              "\n",
              "    [theme=dark] .colab-df-convert {\n",
              "      background-color: #3B4455;\n",
              "      fill: #D2E3FC;\n",
              "    }\n",
              "\n",
              "    [theme=dark] .colab-df-convert:hover {\n",
              "      background-color: #434B5C;\n",
              "      box-shadow: 0px 1px 3px 1px rgba(0, 0, 0, 0.15);\n",
              "      filter: drop-shadow(0px 1px 2px rgba(0, 0, 0, 0.3));\n",
              "      fill: #FFFFFF;\n",
              "    }\n",
              "  </style>\n",
              "\n",
              "      <script>\n",
              "        const buttonEl =\n",
              "          document.querySelector('#df-36bea3d4-1d63-4638-8788-5f81531aac12 button.colab-df-convert');\n",
              "        buttonEl.style.display =\n",
              "          google.colab.kernel.accessAllowed ? 'block' : 'none';\n",
              "\n",
              "        async function convertToInteractive(key) {\n",
              "          const element = document.querySelector('#df-36bea3d4-1d63-4638-8788-5f81531aac12');\n",
              "          const dataTable =\n",
              "            await google.colab.kernel.invokeFunction('convertToInteractive',\n",
              "                                                     [key], {});\n",
              "          if (!dataTable) return;\n",
              "\n",
              "          const docLinkHtml = 'Like what you see? Visit the ' +\n",
              "            '<a target=\"_blank\" href=https://colab.research.google.com/notebooks/data_table.ipynb>data table notebook</a>'\n",
              "            + ' to learn more about interactive tables.';\n",
              "          element.innerHTML = '';\n",
              "          dataTable['output_type'] = 'display_data';\n",
              "          await google.colab.output.renderOutput(dataTable, element);\n",
              "          const docLink = document.createElement('div');\n",
              "          docLink.innerHTML = docLinkHtml;\n",
              "          element.appendChild(docLink);\n",
              "        }\n",
              "      </script>\n",
              "    </div>\n",
              "  </div>\n"
            ]
          },
          "metadata": {},
          "execution_count": 11
        }
      ]
    },
    {
      "cell_type": "code",
      "metadata": {
        "id": "IVVwuPGhkm5h",
        "colab": {
          "base_uri": "https://localhost:8080/",
          "height": 430
        },
        "outputId": "5a4b3c95-b2a1-4ac1-a794-8a1e386f958d"
      },
      "source": [
        "sns.countplot(base_treinamento['sentiment'], label = 'Contagem');"
      ],
      "execution_count": null,
      "outputs": [
        {
          "output_type": "display_data",
          "data": {
            "text/plain": [
              "<Figure size 640x480 with 1 Axes>"
            ],
            "image/png": "[encoded data removed]"
          },
          "metadata": {}
        }
      ]
    },
    {
      "cell_type": "code",
      "metadata": {
        "id": "-xTh-gqelMWn"
      },
      "source": [
        "base_treinamento.drop(['id', 'tweet_date', 'query_used'], axis = 1, inplace=True)"
      ],
      "execution_count": null,
      "outputs": []
    },
    {
      "cell_type": "code",
      "metadata": {
        "id": "82hWS5cklVZ_",
        "colab": {
          "base_uri": "https://localhost:8080/",
          "height": 206
        },
        "outputId": "e0a6b6c1-6dc6-4d41-a595-a65ca3e0d461"
      },
      "source": [
        "base_treinamento.head()"
      ],
      "execution_count": null,
      "outputs": [
        {
          "output_type": "execute_result",
          "data": {
            "text/plain": [
              "                                          tweet_text  sentiment\n",
              "0  @Laranjito76 A pessoa certa para isso seria o ...          1\n",
              "1  @behin_d_curtain Para mim, é precisamente o co...          1\n",
              "2  Vou fazer um video hoje... estou pensando em f...          1\n",
              "3  aaaaaaaa amei tanto essas polaroids, nem sei e...          1\n",
              "4  Valoriza o coração do menininho que vc tem. El...          1"
            ],
            "text/html": [
              "\n",
              "\n",
              "  <div id=\"df-d2f760c6-73d5-44f3-8e07-061451c20c48\">\n",
              "    <div class=\"colab-df-container\">\n",
              "      <div>\n",
              "<style scoped>\n",
              "    .dataframe tbody tr th:only-of-type {\n",
              "        vertical-align: middle;\n",
              "    }\n",
              "\n",
              "    .dataframe tbody tr th {\n",
              "        vertical-align: top;\n",
              "    }\n",
              "\n",
              "    .dataframe thead th {\n",
              "        text-align: right;\n",
              "    }\n",
              "</style>\n",
              "<table border=\"1\" class=\"dataframe\">\n",
              "  <thead>\n",
              "    <tr style=\"text-align: right;\">\n",
              "      <th></th>\n",
              "      <th>tweet_text</th>\n",
              "      <th>sentiment</th>\n",
              "    </tr>\n",
              "  </thead>\n",
              "  <tbody>\n",
              "    <tr>\n",
              "      <th>0</th>\n",
              "      <td>@Laranjito76 A pessoa certa para isso seria o ...</td>\n",
              "      <td>1</td>\n",
              "    </tr>\n",
              "    <tr>\n",
              "      <th>1</th>\n",
              "      <td>@behin_d_curtain Para mim, é precisamente o co...</td>\n",
              "      <td>1</td>\n",
              "    </tr>\n",
              "    <tr>\n",
              "      <th>2</th>\n",
              "      <td>Vou fazer um video hoje... estou pensando em f...</td>\n",
              "      <td>1</td>\n",
              "    </tr>\n",
              "    <tr>\n",
              "      <th>3</th>\n",
              "      <td>aaaaaaaa amei tanto essas polaroids, nem sei e...</td>\n",
              "      <td>1</td>\n",
              "    </tr>\n",
              "    <tr>\n",
              "      <th>4</th>\n",
              "      <td>Valoriza o coração do menininho que vc tem. El...</td>\n",
              "      <td>1</td>\n",
              "    </tr>\n",
              "  </tbody>\n",
              "</table>\n",
              "</div>\n",
              "      <button class=\"colab-df-convert\" onclick=\"convertToInteractive('df-d2f760c6-73d5-44f3-8e07-061451c20c48')\"\n",
              "              title=\"Convert this dataframe to an interactive table.\"\n",
              "              style=\"display:none;\">\n",
              "\n",
              "  <svg xmlns=\"http://www.w3.org/2000/svg\" height=\"24px\"viewBox=\"0 0 24 24\"\n",
              "       width=\"24px\">\n",
              "    <path d=\"M0 0h24v24H0V0z\" fill=\"none\"/>\n",
              "    <path d=\"M18.56 5.44l.94 2.06.94-2.06 2.06-.94-2.06-.94-.94-2.06-.94 2.06-2.06.94zm-11 1L8.5 8.5l.94-2.06 2.06-.94-2.06-.94L8.5 2.5l-.94 2.06-2.06.94zm10 10l.94 2.06.94-2.06 2.06-.94-2.06-.94-.94-2.06-.94 2.06-2.06.94z\"/><path d=\"M17.41 7.96l-1.37-1.37c-.4-.4-.92-.59-1.43-.59-.52 0-1.04.2-1.43.59L10.3 9.45l-7.72 7.72c-.78.78-.78 2.05 0 2.83L4 21.41c.39.39.9.59 1.41.59.51 0 1.02-.2 1.41-.59l7.78-7.78 2.81-2.81c.8-.78.8-2.07 0-2.86zM5.41 20L4 18.59l7.72-7.72 1.47 1.35L5.41 20z\"/>\n",
              "  </svg>\n",
              "      </button>\n",
              "\n",
              "\n",
              "\n",
              "    <div id=\"df-e00f77da-3c41-483e-8364-aaf15a5db063\">\n",
              "      <button class=\"colab-df-quickchart\" onclick=\"quickchart('df-e00f77da-3c41-483e-8364-aaf15a5db063')\"\n",
              "              title=\"Suggest charts.\"\n",
              "              style=\"display:none;\">\n",
              "\n",
              "<svg xmlns=\"http://www.w3.org/2000/svg\" height=\"24px\"viewBox=\"0 0 24 24\"\n",
              "     width=\"24px\">\n",
              "    <g>\n",
              "        <path d=\"M19 3H5c-1.1 0-2 .9-2 2v14c0 1.1.9 2 2 2h14c1.1 0 2-.9 2-2V5c0-1.1-.9-2-2-2zM9 17H7v-7h2v7zm4 0h-2V7h2v10zm4 0h-2v-4h2v4z\"/>\n",
              "    </g>\n",
              "</svg>\n",
              "      </button>\n",
              "    </div>\n",
              "\n",
              "<style>\n",
              "  .colab-df-quickchart {\n",
              "    background-color: #E8F0FE;\n",
              "    border: none;\n",
              "    border-radius: 50%;\n",
              "    cursor: pointer;\n",
              "    display: none;\n",
              "    fill: #1967D2;\n",
              "    height: 32px;\n",
              "    padding: 0 0 0 0;\n",
              "    width: 32px;\n",
              "  }\n",
              "\n",
              "  .colab-df-quickchart:hover {\n",
              "    background-color: #E2EBFA;\n",
              "    box-shadow: 0px 1px 2px rgba(60, 64, 67, 0.3), 0px 1px 3px 1px rgba(60, 64, 67, 0.15);\n",
              "    fill: #174EA6;\n",
              "  }\n",
              "\n",
              "  [theme=dark] .colab-df-quickchart {\n",
              "    background-color: #3B4455;\n",
              "    fill: #D2E3FC;\n",
              "  }\n",
              "\n",
              "  [theme=dark] .colab-df-quickchart:hover {\n",
              "    background-color: #434B5C;\n",
              "    box-shadow: 0px 1px 3px 1px rgba(0, 0, 0, 0.15);\n",
              "    filter: drop-shadow(0px 1px 2px rgba(0, 0, 0, 0.3));\n",
              "    fill: #FFFFFF;\n",
              "  }\n",
              "</style>\n",
              "\n",
              "    <script>\n",
              "      async function quickchart(key) {\n",
              "        const containerElement = document.querySelector('#' + key);\n",
              "        const charts = await google.colab.kernel.invokeFunction(\n",
              "            'suggestCharts', [key], {});\n",
              "      }\n",
              "    </script>\n",
              "\n",
              "      <script>\n",
              "\n",
              "function displayQuickchartButton(domScope) {\n",
              "  let quickchartButtonEl =\n",
              "    domScope.querySelector('#df-e00f77da-3c41-483e-8364-aaf15a5db063 button.colab-df-quickchart');\n",
              "  quickchartButtonEl.style.display =\n",
              "    google.colab.kernel.accessAllowed ? 'block' : 'none';\n",
              "}\n",
              "\n",
              "        displayQuickchartButton(document);\n",
              "      </script>\n",
              "      <style>\n",
              "    .colab-df-container {\n",
              "      display:flex;\n",
              "      flex-wrap:wrap;\n",
              "      gap: 12px;\n",
              "    }\n",
              "\n",
              "    .colab-df-convert {\n",
              "      background-color: #E8F0FE;\n",
              "      border: none;\n",
              "      border-radius: 50%;\n",
              "      cursor: pointer;\n",
              "      display: none;\n",
              "      fill: #1967D2;\n",
              "      height: 32px;\n",
              "      padding: 0 0 0 0;\n",
              "      width: 32px;\n",
              "    }\n",
              "\n",
              "    .colab-df-convert:hover {\n",
              "      background-color: #E2EBFA;\n",
              "      box-shadow: 0px 1px 2px rgba(60, 64, 67, 0.3), 0px 1px 3px 1px rgba(60, 64, 67, 0.15);\n",
              "      fill: #174EA6;\n",
              "    }\n",
              "\n",
              "    [theme=dark] .colab-df-convert {\n",
              "      background-color: #3B4455;\n",
              "      fill: #D2E3FC;\n",
              "    }\n",
              "\n",
              "    [theme=dark] .colab-df-convert:hover {\n",
              "      background-color: #434B5C;\n",
              "      box-shadow: 0px 1px 3px 1px rgba(0, 0, 0, 0.15);\n",
              "      filter: drop-shadow(0px 1px 2px rgba(0, 0, 0, 0.3));\n",
              "      fill: #FFFFFF;\n",
              "    }\n",
              "  </style>\n",
              "\n",
              "      <script>\n",
              "        const buttonEl =\n",
              "          document.querySelector('#df-d2f760c6-73d5-44f3-8e07-061451c20c48 button.colab-df-convert');\n",
              "        buttonEl.style.display =\n",
              "          google.colab.kernel.accessAllowed ? 'block' : 'none';\n",
              "\n",
              "        async function convertToInteractive(key) {\n",
              "          const element = document.querySelector('#df-d2f760c6-73d5-44f3-8e07-061451c20c48');\n",
              "          const dataTable =\n",
              "            await google.colab.kernel.invokeFunction('convertToInteractive',\n",
              "                                                     [key], {});\n",
              "          if (!dataTable) return;\n",
              "\n",
              "          const docLinkHtml = 'Like what you see? Visit the ' +\n",
              "            '<a target=\"_blank\" href=https://colab.research.google.com/notebooks/data_table.ipynb>data table notebook</a>'\n",
              "            + ' to learn more about interactive tables.';\n",
              "          element.innerHTML = '';\n",
              "          dataTable['output_type'] = 'display_data';\n",
              "          await google.colab.output.renderOutput(dataTable, element);\n",
              "          const docLink = document.createElement('div');\n",
              "          docLink.innerHTML = docLinkHtml;\n",
              "          element.appendChild(docLink);\n",
              "        }\n",
              "      </script>\n",
              "    </div>\n",
              "  </div>\n"
            ]
          },
          "metadata": {},
          "execution_count": 14
        }
      ]
    },
    {
      "cell_type": "code",
      "metadata": {
        "id": "dfMcmaval-7w",
        "colab": {
          "base_uri": "https://localhost:8080/",
          "height": 437
        },
        "outputId": "dff132cd-9afe-4f97-f17a-5a778790517a"
      },
      "source": [
        "sns.heatmap(pd.isnull(base_treinamento));"
      ],
      "execution_count": null,
      "outputs": [
        {
          "output_type": "display_data",
          "data": {
            "text/plain": [
              "<Figure size 640x480 with 2 Axes>"
            ],
            "image/png": "[encoded data removed]"
          },
          "metadata": {}
        }
      ]
    },
    {
      "cell_type": "markdown",
      "metadata": {
        "id": "KwANq9uCx-jV"
      },
      "source": [
        "## Base de teste"
      ]
    },
    {
      "cell_type": "code",
      "metadata": {
        "id": "PllVVG-IlYkC"
      },
      "source": [
        "base_teste = pd.read_csv('/content/Test.csv', delimiter=';')"
      ],
      "execution_count": null,
      "outputs": []
    },
    {
      "cell_type": "code",
      "metadata": {
        "id": "yeiX7jb-lfdE",
        "colab": {
          "base_uri": "https://localhost:8080/",
          "height": 206
        },
        "outputId": "6f52537f-f7a1-4a59-ef59-cefd7ad06958"
      },
      "source": [
        "base_teste.head()"
      ],
      "execution_count": null,
      "outputs": [
        {
          "output_type": "execute_result",
          "data": {
            "text/plain": [
              "                    id                                         tweet_text  \\\n",
              "0  1029536486021099522                   @Gazo1a Nossa! Muito obrigada :)   \n",
              "1  1029536496368406528             @BerzGamer vai pa puta que te pariu :)   \n",
              "2  1029536531655131137  QUER MAIS DESCONTOS? (14/08) ⭐⭐⭐⭐⭐ 🌐 Confira n...   \n",
              "3  1029536560117678081  EU VOU PEGAR VCS, ME AJUDEM GALERA, PELO AMOR ...   \n",
              "4  1029536605852377088  Estávamos em casa do Zé e eu estava a morrer d...   \n",
              "\n",
              "                       tweet_date  sentiment query_used  \n",
              "0  Wed Aug 15 01:13:20 +0000 2018          1         :)  \n",
              "1  Wed Aug 15 01:13:23 +0000 2018          1         :)  \n",
              "2  Wed Aug 15 01:13:31 +0000 2018          1         :)  \n",
              "3  Wed Aug 15 01:13:38 +0000 2018          1         :)  \n",
              "4  Wed Aug 15 01:13:49 +0000 2018          1         :)  "
            ],
            "text/html": [
              "\n",
              "\n",
              "  <div id=\"df-d1905206-43ad-4df2-a7ca-5eae3f7d9e30\">\n",
              "    <div class=\"colab-df-container\">\n",
              "      <div>\n",
              "<style scoped>\n",
              "    .dataframe tbody tr th:only-of-type {\n",
              "        vertical-align: middle;\n",
              "    }\n",
              "\n",
              "    .dataframe tbody tr th {\n",
              "        vertical-align: top;\n",
              "    }\n",
              "\n",
              "    .dataframe thead th {\n",
              "        text-align: right;\n",
              "    }\n",
              "</style>\n",
              "<table border=\"1\" class=\"dataframe\">\n",
              "  <thead>\n",
              "    <tr style=\"text-align: right;\">\n",
              "      <th></th>\n",
              "      <th>id</th>\n",
              "      <th>tweet_text</th>\n",
              "      <th>tweet_date</th>\n",
              "      <th>sentiment</th>\n",
              "      <th>query_used</th>\n",
              "    </tr>\n",
              "  </thead>\n",
              "  <tbody>\n",
              "    <tr>\n",
              "      <th>0</th>\n",
              "      <td>1029536486021099522</td>\n",
              "      <td>@Gazo1a Nossa! Muito obrigada :)</td>\n",
              "      <td>Wed Aug 15 01:13:20 +0000 2018</td>\n",
              "      <td>1</td>\n",
              "      <td>:)</td>\n",
              "    </tr>\n",
              "    <tr>\n",
              "      <th>1</th>\n",
              "      <td>1029536496368406528</td>\n",
              "      <td>@BerzGamer vai pa puta que te pariu :)</td>\n",
              "      <td>Wed Aug 15 01:13:23 +0000 2018</td>\n",
              "      <td>1</td>\n",
              "      <td>:)</td>\n",
              "    </tr>\n",
              "    <tr>\n",
              "      <th>2</th>\n",
              "      <td>1029536531655131137</td>\n",
              "      <td>QUER MAIS DESCONTOS? (14/08) ⭐⭐⭐⭐⭐ 🌐 Confira n...</td>\n",
              "      <td>Wed Aug 15 01:13:31 +0000 2018</td>\n",
              "      <td>1</td>\n",
              "      <td>:)</td>\n",
              "    </tr>\n",
              "    <tr>\n",
              "      <th>3</th>\n",
              "      <td>1029536560117678081</td>\n",
              "      <td>EU VOU PEGAR VCS, ME AJUDEM GALERA, PELO AMOR ...</td>\n",
              "      <td>Wed Aug 15 01:13:38 +0000 2018</td>\n",
              "      <td>1</td>\n",
              "      <td>:)</td>\n",
              "    </tr>\n",
              "    <tr>\n",
              "      <th>4</th>\n",
              "      <td>1029536605852377088</td>\n",
              "      <td>Estávamos em casa do Zé e eu estava a morrer d...</td>\n",
              "      <td>Wed Aug 15 01:13:49 +0000 2018</td>\n",
              "      <td>1</td>\n",
              "      <td>:)</td>\n",
              "    </tr>\n",
              "  </tbody>\n",
              "</table>\n",
              "</div>\n",
              "      <button class=\"colab-df-convert\" onclick=\"convertToInteractive('df-d1905206-43ad-4df2-a7ca-5eae3f7d9e30')\"\n",
              "              title=\"Convert this dataframe to an interactive table.\"\n",
              "              style=\"display:none;\">\n",
              "\n",
              "  <svg xmlns=\"http://www.w3.org/2000/svg\" height=\"24px\"viewBox=\"0 0 24 24\"\n",
              "       width=\"24px\">\n",
              "    <path d=\"M0 0h24v24H0V0z\" fill=\"none\"/>\n",
              "    <path d=\"M18.56 5.44l.94 2.06.94-2.06 2.06-.94-2.06-.94-.94-2.06-.94 2.06-2.06.94zm-11 1L8.5 8.5l.94-2.06 2.06-.94-2.06-.94L8.5 2.5l-.94 2.06-2.06.94zm10 10l.94 2.06.94-2.06 2.06-.94-2.06-.94-.94-2.06-.94 2.06-2.06.94z\"/><path d=\"M17.41 7.96l-1.37-1.37c-.4-.4-.92-.59-1.43-.59-.52 0-1.04.2-1.43.59L10.3 9.45l-7.72 7.72c-.78.78-.78 2.05 0 2.83L4 21.41c.39.39.9.59 1.41.59.51 0 1.02-.2 1.41-.59l7.78-7.78 2.81-2.81c.8-.78.8-2.07 0-2.86zM5.41 20L4 18.59l7.72-7.72 1.47 1.35L5.41 20z\"/>\n",
              "  </svg>\n",
              "      </button>\n",
              "\n",
              "\n",
              "\n",
              "    <div id=\"df-1f2017c4-c2cd-4c27-b5f1-41866c6e7b60\">\n",
              "      <button class=\"colab-df-quickchart\" onclick=\"quickchart('df-1f2017c4-c2cd-4c27-b5f1-41866c6e7b60')\"\n",
              "              title=\"Suggest charts.\"\n",
              "              style=\"display:none;\">\n",
              "\n",
              "<svg xmlns=\"http://www.w3.org/2000/svg\" height=\"24px\"viewBox=\"0 0 24 24\"\n",
              "     width=\"24px\">\n",
              "    <g>\n",
              "        <path d=\"M19 3H5c-1.1 0-2 .9-2 2v14c0 1.1.9 2 2 2h14c1.1 0 2-.9 2-2V5c0-1.1-.9-2-2-2zM9 17H7v-7h2v7zm4 0h-2V7h2v10zm4 0h-2v-4h2v4z\"/>\n",
              "    </g>\n",
              "</svg>\n",
              "      </button>\n",
              "    </div>\n",
              "\n",
              "<style>\n",
              "  .colab-df-quickchart {\n",
              "    background-color: #E8F0FE;\n",
              "    border: none;\n",
              "    border-radius: 50%;\n",
              "    cursor: pointer;\n",
              "    display: none;\n",
              "    fill: #1967D2;\n",
              "    height: 32px;\n",
              "    padding: 0 0 0 0;\n",
              "    width: 32px;\n",
              "  }\n",
              "\n",
              "  .colab-df-quickchart:hover {\n",
              "    background-color: #E2EBFA;\n",
              "    box-shadow: 0px 1px 2px rgba(60, 64, 67, 0.3), 0px 1px 3px 1px rgba(60, 64, 67, 0.15);\n",
              "    fill: #174EA6;\n",
              "  }\n",
              "\n",
              "  [theme=dark] .colab-df-quickchart {\n",
              "    background-color: #3B4455;\n",
              "    fill: #D2E3FC;\n",
              "  }\n",
              "\n",
              "  [theme=dark] .colab-df-quickchart:hover {\n",
              "    background-color: #434B5C;\n",
              "    box-shadow: 0px 1px 3px 1px rgba(0, 0, 0, 0.15);\n",
              "    filter: drop-shadow(0px 1px 2px rgba(0, 0, 0, 0.3));\n",
              "    fill: #FFFFFF;\n",
              "  }\n",
              "</style>\n",
              "\n",
              "    <script>\n",
              "      async function quickchart(key) {\n",
              "        const containerElement = document.querySelector('#' + key);\n",
              "        const charts = await google.colab.kernel.invokeFunction(\n",
              "            'suggestCharts', [key], {});\n",
              "      }\n",
              "    </script>\n",
              "\n",
              "      <script>\n",
              "\n",
              "function displayQuickchartButton(domScope) {\n",
              "  let quickchartButtonEl =\n",
              "    domScope.querySelector('#df-1f2017c4-c2cd-4c27-b5f1-41866c6e7b60 button.colab-df-quickchart');\n",
              "  quickchartButtonEl.style.display =\n",
              "    google.colab.kernel.accessAllowed ? 'block' : 'none';\n",
              "}\n",
              "\n",
              "        displayQuickchartButton(document);\n",
              "      </script>\n",
              "      <style>\n",
              "    .colab-df-container {\n",
              "      display:flex;\n",
              "      flex-wrap:wrap;\n",
              "      gap: 12px;\n",
              "    }\n",
              "\n",
              "    .colab-df-convert {\n",
              "      background-color: #E8F0FE;\n",
              "      border: none;\n",
              "      border-radius: 50%;\n",
              "      cursor: pointer;\n",
              "      display: none;\n",
              "      fill: #1967D2;\n",
              "      height: 32px;\n",
              "      padding: 0 0 0 0;\n",
              "      width: 32px;\n",
              "    }\n",
              "\n",
              "    .colab-df-convert:hover {\n",
              "      background-color: #E2EBFA;\n",
              "      box-shadow: 0px 1px 2px rgba(60, 64, 67, 0.3), 0px 1px 3px 1px rgba(60, 64, 67, 0.15);\n",
              "      fill: #174EA6;\n",
              "    }\n",
              "\n",
              "    [theme=dark] .colab-df-convert {\n",
              "      background-color: #3B4455;\n",
              "      fill: #D2E3FC;\n",
              "    }\n",
              "\n",
              "    [theme=dark] .colab-df-convert:hover {\n",
              "      background-color: #434B5C;\n",
              "      box-shadow: 0px 1px 3px 1px rgba(0, 0, 0, 0.15);\n",
              "      filter: drop-shadow(0px 1px 2px rgba(0, 0, 0, 0.3));\n",
              "      fill: #FFFFFF;\n",
              "    }\n",
              "  </style>\n",
              "\n",
              "      <script>\n",
              "        const buttonEl =\n",
              "          document.querySelector('#df-d1905206-43ad-4df2-a7ca-5eae3f7d9e30 button.colab-df-convert');\n",
              "        buttonEl.style.display =\n",
              "          google.colab.kernel.accessAllowed ? 'block' : 'none';\n",
              "\n",
              "        async function convertToInteractive(key) {\n",
              "          const element = document.querySelector('#df-d1905206-43ad-4df2-a7ca-5eae3f7d9e30');\n",
              "          const dataTable =\n",
              "            await google.colab.kernel.invokeFunction('convertToInteractive',\n",
              "                                                     [key], {});\n",
              "          if (!dataTable) return;\n",
              "\n",
              "          const docLinkHtml = 'Like what you see? Visit the ' +\n",
              "            '<a target=\"_blank\" href=https://colab.research.google.com/notebooks/data_table.ipynb>data table notebook</a>'\n",
              "            + ' to learn more about interactive tables.';\n",
              "          element.innerHTML = '';\n",
              "          dataTable['output_type'] = 'display_data';\n",
              "          await google.colab.output.renderOutput(dataTable, element);\n",
              "          const docLink = document.createElement('div');\n",
              "          docLink.innerHTML = docLinkHtml;\n",
              "          element.appendChild(docLink);\n",
              "        }\n",
              "      </script>\n",
              "    </div>\n",
              "  </div>\n"
            ]
          },
          "metadata": {},
          "execution_count": 17
        }
      ]
    },
    {
      "cell_type": "code",
      "metadata": {
        "id": "Lr5tKcjPlkQy",
        "colab": {
          "base_uri": "https://localhost:8080/"
        },
        "outputId": "c4c06e82-e9d1-4ac2-961b-a09cd6db4aaa"
      },
      "source": [
        "base_teste.shape"
      ],
      "execution_count": null,
      "outputs": [
        {
          "output_type": "execute_result",
          "data": {
            "text/plain": [
              "(5000, 5)"
            ]
          },
          "metadata": {},
          "execution_count": 18
        }
      ]
    },
    {
      "cell_type": "code",
      "metadata": {
        "id": "gPgCCOZslxXy"
      },
      "source": [
        "base_teste.drop(['id', 'tweet_date', 'query_used'], axis = 1, inplace=True)"
      ],
      "execution_count": null,
      "outputs": []
    },
    {
      "cell_type": "code",
      "metadata": {
        "id": "5evaWMpvl1kg",
        "colab": {
          "base_uri": "https://localhost:8080/",
          "height": 206
        },
        "outputId": "24ba929b-f86b-421e-bf51-c003b4a97e30"
      },
      "source": [
        "base_teste.head()"
      ],
      "execution_count": null,
      "outputs": [
        {
          "output_type": "execute_result",
          "data": {
            "text/plain": [
              "                                          tweet_text  sentiment\n",
              "0                   @Gazo1a Nossa! Muito obrigada :)          1\n",
              "1             @BerzGamer vai pa puta que te pariu :)          1\n",
              "2  QUER MAIS DESCONTOS? (14/08) ⭐⭐⭐⭐⭐ 🌐 Confira n...          1\n",
              "3  EU VOU PEGAR VCS, ME AJUDEM GALERA, PELO AMOR ...          1\n",
              "4  Estávamos em casa do Zé e eu estava a morrer d...          1"
            ],
            "text/html": [
              "\n",
              "\n",
              "  <div id=\"df-2af28545-7e99-4142-ad02-7b4fc03cbe8e\">\n",
              "    <div class=\"colab-df-container\">\n",
              "      <div>\n",
              "<style scoped>\n",
              "    .dataframe tbody tr th:only-of-type {\n",
              "        vertical-align: middle;\n",
              "    }\n",
              "\n",
              "    .dataframe tbody tr th {\n",
              "        vertical-align: top;\n",
              "    }\n",
              "\n",
              "    .dataframe thead th {\n",
              "        text-align: right;\n",
              "    }\n",
              "</style>\n",
              "<table border=\"1\" class=\"dataframe\">\n",
              "  <thead>\n",
              "    <tr style=\"text-align: right;\">\n",
              "      <th></th>\n",
              "      <th>tweet_text</th>\n",
              "      <th>sentiment</th>\n",
              "    </tr>\n",
              "  </thead>\n",
              "  <tbody>\n",
              "    <tr>\n",
              "      <th>0</th>\n",
              "      <td>@Gazo1a Nossa! Muito obrigada :)</td>\n",
              "      <td>1</td>\n",
              "    </tr>\n",
              "    <tr>\n",
              "      <th>1</th>\n",
              "      <td>@BerzGamer vai pa puta que te pariu :)</td>\n",
              "      <td>1</td>\n",
              "    </tr>\n",
              "    <tr>\n",
              "      <th>2</th>\n",
              "      <td>QUER MAIS DESCONTOS? (14/08) ⭐⭐⭐⭐⭐ 🌐 Confira n...</td>\n",
              "      <td>1</td>\n",
              "    </tr>\n",
              "    <tr>\n",
              "      <th>3</th>\n",
              "      <td>EU VOU PEGAR VCS, ME AJUDEM GALERA, PELO AMOR ...</td>\n",
              "      <td>1</td>\n",
              "    </tr>\n",
              "    <tr>\n",
              "      <th>4</th>\n",
              "      <td>Estávamos em casa do Zé e eu estava a morrer d...</td>\n",
              "      <td>1</td>\n",
              "    </tr>\n",
              "  </tbody>\n",
              "</table>\n",
              "</div>\n",
              "      <button class=\"colab-df-convert\" onclick=\"convertToInteractive('df-2af28545-7e99-4142-ad02-7b4fc03cbe8e')\"\n",
              "              title=\"Convert this dataframe to an interactive table.\"\n",
              "              style=\"display:none;\">\n",
              "\n",
              "  <svg xmlns=\"http://www.w3.org/2000/svg\" height=\"24px\"viewBox=\"0 0 24 24\"\n",
              "       width=\"24px\">\n",
              "    <path d=\"M0 0h24v24H0V0z\" fill=\"none\"/>\n",
              "    <path d=\"M18.56 5.44l.94 2.06.94-2.06 2.06-.94-2.06-.94-.94-2.06-.94 2.06-2.06.94zm-11 1L8.5 8.5l.94-2.06 2.06-.94-2.06-.94L8.5 2.5l-.94 2.06-2.06.94zm10 10l.94 2.06.94-2.06 2.06-.94-2.06-.94-.94-2.06-.94 2.06-2.06.94z\"/><path d=\"M17.41 7.96l-1.37-1.37c-.4-.4-.92-.59-1.43-.59-.52 0-1.04.2-1.43.59L10.3 9.45l-7.72 7.72c-.78.78-.78 2.05 0 2.83L4 21.41c.39.39.9.59 1.41.59.51 0 1.02-.2 1.41-.59l7.78-7.78 2.81-2.81c.8-.78.8-2.07 0-2.86zM5.41 20L4 18.59l7.72-7.72 1.47 1.35L5.41 20z\"/>\n",
              "  </svg>\n",
              "      </button>\n",
              "\n",
              "\n",
              "\n",
              "    <div id=\"df-92cc90dc-77b6-44ed-85a3-37a68d8ff486\">\n",
              "      <button class=\"colab-df-quickchart\" onclick=\"quickchart('df-92cc90dc-77b6-44ed-85a3-37a68d8ff486')\"\n",
              "              title=\"Suggest charts.\"\n",
              "              style=\"display:none;\">\n",
              "\n",
              "<svg xmlns=\"http://www.w3.org/2000/svg\" height=\"24px\"viewBox=\"0 0 24 24\"\n",
              "     width=\"24px\">\n",
              "    <g>\n",
              "        <path d=\"M19 3H5c-1.1 0-2 .9-2 2v14c0 1.1.9 2 2 2h14c1.1 0 2-.9 2-2V5c0-1.1-.9-2-2-2zM9 17H7v-7h2v7zm4 0h-2V7h2v10zm4 0h-2v-4h2v4z\"/>\n",
              "    </g>\n",
              "</svg>\n",
              "      </button>\n",
              "    </div>\n",
              "\n",
              "<style>\n",
              "  .colab-df-quickchart {\n",
              "    background-color: #E8F0FE;\n",
              "    border: none;\n",
              "    border-radius: 50%;\n",
              "    cursor: pointer;\n",
              "    display: none;\n",
              "    fill: #1967D2;\n",
              "    height: 32px;\n",
              "    padding: 0 0 0 0;\n",
              "    width: 32px;\n",
              "  }\n",
              "\n",
              "  .colab-df-quickchart:hover {\n",
              "    background-color: #E2EBFA;\n",
              "    box-shadow: 0px 1px 2px rgba(60, 64, 67, 0.3), 0px 1px 3px 1px rgba(60, 64, 67, 0.15);\n",
              "    fill: #174EA6;\n",
              "  }\n",
              "\n",
              "  [theme=dark] .colab-df-quickchart {\n",
              "    background-color: #3B4455;\n",
              "    fill: #D2E3FC;\n",
              "  }\n",
              "\n",
              "  [theme=dark] .colab-df-quickchart:hover {\n",
              "    background-color: #434B5C;\n",
              "    box-shadow: 0px 1px 3px 1px rgba(0, 0, 0, 0.15);\n",
              "    filter: drop-shadow(0px 1px 2px rgba(0, 0, 0, 0.3));\n",
              "    fill: #FFFFFF;\n",
              "  }\n",
              "</style>\n",
              "\n",
              "    <script>\n",
              "      async function quickchart(key) {\n",
              "        const containerElement = document.querySelector('#' + key);\n",
              "        const charts = await google.colab.kernel.invokeFunction(\n",
              "            'suggestCharts', [key], {});\n",
              "      }\n",
              "    </script>\n",
              "\n",
              "      <script>\n",
              "\n",
              "function displayQuickchartButton(domScope) {\n",
              "  let quickchartButtonEl =\n",
              "    domScope.querySelector('#df-92cc90dc-77b6-44ed-85a3-37a68d8ff486 button.colab-df-quickchart');\n",
              "  quickchartButtonEl.style.display =\n",
              "    google.colab.kernel.accessAllowed ? 'block' : 'none';\n",
              "}\n",
              "\n",
              "        displayQuickchartButton(document);\n",
              "      </script>\n",
              "      <style>\n",
              "    .colab-df-container {\n",
              "      display:flex;\n",
              "      flex-wrap:wrap;\n",
              "      gap: 12px;\n",
              "    }\n",
              "\n",
              "    .colab-df-convert {\n",
              "      background-color: #E8F0FE;\n",
              "      border: none;\n",
              "      border-radius: 50%;\n",
              "      cursor: pointer;\n",
              "      display: none;\n",
              "      fill: #1967D2;\n",
              "      height: 32px;\n",
              "      padding: 0 0 0 0;\n",
              "      width: 32px;\n",
              "    }\n",
              "\n",
              "    .colab-df-convert:hover {\n",
              "      background-color: #E2EBFA;\n",
              "      box-shadow: 0px 1px 2px rgba(60, 64, 67, 0.3), 0px 1px 3px 1px rgba(60, 64, 67, 0.15);\n",
              "      fill: #174EA6;\n",
              "    }\n",
              "\n",
              "    [theme=dark] .colab-df-convert {\n",
              "      background-color: #3B4455;\n",
              "      fill: #D2E3FC;\n",
              "    }\n",
              "\n",
              "    [theme=dark] .colab-df-convert:hover {\n",
              "      background-color: #434B5C;\n",
              "      box-shadow: 0px 1px 3px 1px rgba(0, 0, 0, 0.15);\n",
              "      filter: drop-shadow(0px 1px 2px rgba(0, 0, 0, 0.3));\n",
              "      fill: #FFFFFF;\n",
              "    }\n",
              "  </style>\n",
              "\n",
              "      <script>\n",
              "        const buttonEl =\n",
              "          document.querySelector('#df-2af28545-7e99-4142-ad02-7b4fc03cbe8e button.colab-df-convert');\n",
              "        buttonEl.style.display =\n",
              "          google.colab.kernel.accessAllowed ? 'block' : 'none';\n",
              "\n",
              "        async function convertToInteractive(key) {\n",
              "          const element = document.querySelector('#df-2af28545-7e99-4142-ad02-7b4fc03cbe8e');\n",
              "          const dataTable =\n",
              "            await google.colab.kernel.invokeFunction('convertToInteractive',\n",
              "                                                     [key], {});\n",
              "          if (!dataTable) return;\n",
              "\n",
              "          const docLinkHtml = 'Like what you see? Visit the ' +\n",
              "            '<a target=\"_blank\" href=https://colab.research.google.com/notebooks/data_table.ipynb>data table notebook</a>'\n",
              "            + ' to learn more about interactive tables.';\n",
              "          element.innerHTML = '';\n",
              "          dataTable['output_type'] = 'display_data';\n",
              "          await google.colab.output.renderOutput(dataTable, element);\n",
              "          const docLink = document.createElement('div');\n",
              "          docLink.innerHTML = docLinkHtml;\n",
              "          element.appendChild(docLink);\n",
              "        }\n",
              "      </script>\n",
              "    </div>\n",
              "  </div>\n"
            ]
          },
          "metadata": {},
          "execution_count": 20
        }
      ]
    },
    {
      "cell_type": "code",
      "metadata": {
        "id": "FYE-KGRkmZcd",
        "colab": {
          "base_uri": "https://localhost:8080/",
          "height": 437
        },
        "outputId": "4cde986c-b697-4269-cbab-9f399c063d3e"
      },
      "source": [
        "sns.heatmap(pd.isnull(base_teste));"
      ],
      "execution_count": null,
      "outputs": [
        {
          "output_type": "display_data",
          "data": {
            "text/plain": [
              "<Figure size 640x480 with 2 Axes>"
            ],
            "image/png": "[encoded data removed]"
          },
          "metadata": {}
        }
      ]
    },
    {
      "cell_type": "markdown",
      "metadata": {
        "id": "h36-8Ien-AQ1"
      },
      "source": [
        "# Função para pré-processamento dos textos\n",
        "\n",
        "- Letras minúsculas\n",
        "- Nome do usuário (@)\n",
        "- URLs\n",
        "- Espaços em branco\n",
        "- Emoticons\n",
        "- Stop words\n",
        "- Lematização\n",
        "- Pontuações"
      ]
    },
    {
      "cell_type": "code",
      "metadata": {
        "id": "gOur6ftJnKuP",
        "colab": {
          "base_uri": "https://localhost:8080/"
        },
        "outputId": "b22c9fa7-8ad2-4cda-c0ae-07aa4c6e804c"
      },
      "source": [
        "pln = en_core_web_sm.load()\n",
        "pln"
      ],
      "execution_count": null,
      "outputs": [
        {
          "output_type": "execute_result",
          "data": {
            "text/plain": [
              "<spacy.lang.en.English at 0x7f731a45b1f0>"
            ]
          },
          "metadata": {},
          "execution_count": 25
        }
      ]
    },
    {
      "cell_type": "code",
      "source": [
        "from spacy.lang.pt.stop_words import STOP_WORDS"
      ],
      "metadata": {
        "id": "1f78ERr4y8iQ"
      },
      "execution_count": null,
      "outputs": []
    },
    {
      "cell_type": "code",
      "metadata": {
        "id": "z6-JRv8Ynayt"
      },
      "source": [
        "stop_words = STOP_WORDS"
      ],
      "execution_count": null,
      "outputs": []
    },
    {
      "cell_type": "code",
      "metadata": {
        "id": "rS9ldTSJnsMb"
      },
      "source": [
        "def preprocessamento(texto):\n",
        "  # Letras minúsculas\n",
        "  texto = texto.lower()\n",
        "\n",
        "  # Nome do usuário\n",
        "  texto = re.sub(r\"@[A-Za-z0-9$-_@.&+]+\", ' ', texto)\n",
        "\n",
        "  # URLs\n",
        "  texto = re.sub(r\"https?://[A-Za-z0-9./]+\", ' ', texto)\n",
        "\n",
        "  # Espaços em branco\n",
        "  texto = re.sub(r\" +\", ' ', texto)\n",
        "\n",
        "  # Emoticons\n",
        "  lista_emocoes = {':)': 'emocaopositiva',\n",
        "                   ':d': 'emocaopositiva',\n",
        "                   ':(': 'emocaonegativa'}\n",
        "  for emocao in lista_emocoes:\n",
        "    texto = texto.replace(emocao, lista_emocoes[emocao])\n",
        "\n",
        "  # Lematização\n",
        "  documento = pln(texto)\n",
        "\n",
        "  lista = []\n",
        "  for token in documento:\n",
        "    lista.append(token.lemma_)\n",
        "\n",
        "  # Stop words e pontuações\n",
        "  lista = [palavra for palavra in lista if palavra not in stop_words and palavra not in string.punctuation]\n",
        "  lista = ' '.join([str(elemento) for elemento in lista if not elemento.isdigit()])\n",
        "\n",
        "  return lista"
      ],
      "execution_count": null,
      "outputs": []
    },
    {
      "cell_type": "markdown",
      "metadata": {
        "id": "DtL8DBPVOFoL"
      },
      "source": [
        "# Pré-processamento da base de dados"
      ]
    },
    {
      "cell_type": "markdown",
      "metadata": {
        "id": "n7G5PSVUOOId"
      },
      "source": [
        "### Limpeza dos textos"
      ]
    },
    {
      "cell_type": "code",
      "metadata": {
        "id": "o3zrf-ytssZb",
        "colab": {
          "base_uri": "https://localhost:8080/",
          "height": 363
        },
        "outputId": "234eef00-45fe-4e8d-cb3c-c4743e1c3e48"
      },
      "source": [
        "base_treinamento.head(10)"
      ],
      "execution_count": null,
      "outputs": [
        {
          "output_type": "execute_result",
          "data": {
            "text/plain": [
              "                                          tweet_text  sentiment\n",
              "0  @Laranjito76 A pessoa certa para isso seria o ...          1\n",
              "1  @behin_d_curtain Para mim, é precisamente o co...          1\n",
              "2  Vou fazer um video hoje... estou pensando em f...          1\n",
              "3  aaaaaaaa amei tanto essas polaroids, nem sei e...          1\n",
              "4  Valoriza o coração do menininho que vc tem. El...          1\n",
              "5       @KingJokerLeto mas amiga eu to aqui ainda :)          1\n",
              "6                   @RivasJairo Bravo, Jairo!!! :)))          1\n",
              "7  @inquilinasls @Spotify socorro ksoaksosks acho...          1\n",
              "8  @chimekarlla gosto muito de fazenda :) , mas m...          1\n",
              "9                            Amanha vou ver venom :D          1"
            ],
            "text/html": [
              "\n",
              "\n",
              "  <div id=\"df-f6963ab8-a51a-4048-a59a-07eb50704a20\">\n",
              "    <div class=\"colab-df-container\">\n",
              "      <div>\n",
              "<style scoped>\n",
              "    .dataframe tbody tr th:only-of-type {\n",
              "        vertical-align: middle;\n",
              "    }\n",
              "\n",
              "    .dataframe tbody tr th {\n",
              "        vertical-align: top;\n",
              "    }\n",
              "\n",
              "    .dataframe thead th {\n",
              "        text-align: right;\n",
              "    }\n",
              "</style>\n",
              "<table border=\"1\" class=\"dataframe\">\n",
              "  <thead>\n",
              "    <tr style=\"text-align: right;\">\n",
              "      <th></th>\n",
              "      <th>tweet_text</th>\n",
              "      <th>sentiment</th>\n",
              "    </tr>\n",
              "  </thead>\n",
              "  <tbody>\n",
              "    <tr>\n",
              "      <th>0</th>\n",
              "      <td>@Laranjito76 A pessoa certa para isso seria o ...</td>\n",
              "      <td>1</td>\n",
              "    </tr>\n",
              "    <tr>\n",
              "      <th>1</th>\n",
              "      <td>@behin_d_curtain Para mim, é precisamente o co...</td>\n",
              "      <td>1</td>\n",
              "    </tr>\n",
              "    <tr>\n",
              "      <th>2</th>\n",
              "      <td>Vou fazer um video hoje... estou pensando em f...</td>\n",
              "      <td>1</td>\n",
              "    </tr>\n",
              "    <tr>\n",
              "      <th>3</th>\n",
              "      <td>aaaaaaaa amei tanto essas polaroids, nem sei e...</td>\n",
              "      <td>1</td>\n",
              "    </tr>\n",
              "    <tr>\n",
              "      <th>4</th>\n",
              "      <td>Valoriza o coração do menininho que vc tem. El...</td>\n",
              "      <td>1</td>\n",
              "    </tr>\n",
              "    <tr>\n",
              "      <th>5</th>\n",
              "      <td>@KingJokerLeto mas amiga eu to aqui ainda :)</td>\n",
              "      <td>1</td>\n",
              "    </tr>\n",
              "    <tr>\n",
              "      <th>6</th>\n",
              "      <td>@RivasJairo Bravo, Jairo!!! :)))</td>\n",
              "      <td>1</td>\n",
              "    </tr>\n",
              "    <tr>\n",
              "      <th>7</th>\n",
              "      <td>@inquilinasls @Spotify socorro ksoaksosks acho...</td>\n",
              "      <td>1</td>\n",
              "    </tr>\n",
              "    <tr>\n",
              "      <th>8</th>\n",
              "      <td>@chimekarlla gosto muito de fazenda :) , mas m...</td>\n",
              "      <td>1</td>\n",
              "    </tr>\n",
              "    <tr>\n",
              "      <th>9</th>\n",
              "      <td>Amanha vou ver venom :D</td>\n",
              "      <td>1</td>\n",
              "    </tr>\n",
              "  </tbody>\n",
              "</table>\n",
              "</div>\n",
              "      <button class=\"colab-df-convert\" onclick=\"convertToInteractive('df-f6963ab8-a51a-4048-a59a-07eb50704a20')\"\n",
              "              title=\"Convert this dataframe to an interactive table.\"\n",
              "              style=\"display:none;\">\n",
              "\n",
              "  <svg xmlns=\"http://www.w3.org/2000/svg\" height=\"24px\"viewBox=\"0 0 24 24\"\n",
              "       width=\"24px\">\n",
              "    <path d=\"M0 0h24v24H0V0z\" fill=\"none\"/>\n",
              "    <path d=\"M18.56 5.44l.94 2.06.94-2.06 2.06-.94-2.06-.94-.94-2.06-.94 2.06-2.06.94zm-11 1L8.5 8.5l.94-2.06 2.06-.94-2.06-.94L8.5 2.5l-.94 2.06-2.06.94zm10 10l.94 2.06.94-2.06 2.06-.94-2.06-.94-.94-2.06-.94 2.06-2.06.94z\"/><path d=\"M17.41 7.96l-1.37-1.37c-.4-.4-.92-.59-1.43-.59-.52 0-1.04.2-1.43.59L10.3 9.45l-7.72 7.72c-.78.78-.78 2.05 0 2.83L4 21.41c.39.39.9.59 1.41.59.51 0 1.02-.2 1.41-.59l7.78-7.78 2.81-2.81c.8-.78.8-2.07 0-2.86zM5.41 20L4 18.59l7.72-7.72 1.47 1.35L5.41 20z\"/>\n",
              "  </svg>\n",
              "      </button>\n",
              "\n",
              "\n",
              "\n",
              "    <div id=\"df-a7913a51-b8b5-4027-aae3-0a4c01923e63\">\n",
              "      <button class=\"colab-df-quickchart\" onclick=\"quickchart('df-a7913a51-b8b5-4027-aae3-0a4c01923e63')\"\n",
              "              title=\"Suggest charts.\"\n",
              "              style=\"display:none;\">\n",
              "\n",
              "<svg xmlns=\"http://www.w3.org/2000/svg\" height=\"24px\"viewBox=\"0 0 24 24\"\n",
              "     width=\"24px\">\n",
              "    <g>\n",
              "        <path d=\"M19 3H5c-1.1 0-2 .9-2 2v14c0 1.1.9 2 2 2h14c1.1 0 2-.9 2-2V5c0-1.1-.9-2-2-2zM9 17H7v-7h2v7zm4 0h-2V7h2v10zm4 0h-2v-4h2v4z\"/>\n",
              "    </g>\n",
              "</svg>\n",
              "      </button>\n",
              "    </div>\n",
              "\n",
              "<style>\n",
              "  .colab-df-quickchart {\n",
              "    background-color: #E8F0FE;\n",
              "    border: none;\n",
              "    border-radius: 50%;\n",
              "    cursor: pointer;\n",
              "    display: none;\n",
              "    fill: #1967D2;\n",
              "    height: 32px;\n",
              "    padding: 0 0 0 0;\n",
              "    width: 32px;\n",
              "  }\n",
              "\n",
              "  .colab-df-quickchart:hover {\n",
              "    background-color: #E2EBFA;\n",
              "    box-shadow: 0px 1px 2px rgba(60, 64, 67, 0.3), 0px 1px 3px 1px rgba(60, 64, 67, 0.15);\n",
              "    fill: #174EA6;\n",
              "  }\n",
              "\n",
              "  [theme=dark] .colab-df-quickchart {\n",
              "    background-color: #3B4455;\n",
              "    fill: #D2E3FC;\n",
              "  }\n",
              "\n",
              "  [theme=dark] .colab-df-quickchart:hover {\n",
              "    background-color: #434B5C;\n",
              "    box-shadow: 0px 1px 3px 1px rgba(0, 0, 0, 0.15);\n",
              "    filter: drop-shadow(0px 1px 2px rgba(0, 0, 0, 0.3));\n",
              "    fill: #FFFFFF;\n",
              "  }\n",
              "</style>\n",
              "\n",
              "    <script>\n",
              "      async function quickchart(key) {\n",
              "        const containerElement = document.querySelector('#' + key);\n",
              "        const charts = await google.colab.kernel.invokeFunction(\n",
              "            'suggestCharts', [key], {});\n",
              "      }\n",
              "    </script>\n",
              "\n",
              "      <script>\n",
              "\n",
              "function displayQuickchartButton(domScope) {\n",
              "  let quickchartButtonEl =\n",
              "    domScope.querySelector('#df-a7913a51-b8b5-4027-aae3-0a4c01923e63 button.colab-df-quickchart');\n",
              "  quickchartButtonEl.style.display =\n",
              "    google.colab.kernel.accessAllowed ? 'block' : 'none';\n",
              "}\n",
              "\n",
              "        displayQuickchartButton(document);\n",
              "      </script>\n",
              "      <style>\n",
              "    .colab-df-container {\n",
              "      display:flex;\n",
              "      flex-wrap:wrap;\n",
              "      gap: 12px;\n",
              "    }\n",
              "\n",
              "    .colab-df-convert {\n",
              "      background-color: #E8F0FE;\n",
              "      border: none;\n",
              "      border-radius: 50%;\n",
              "      cursor: pointer;\n",
              "      display: none;\n",
              "      fill: #1967D2;\n",
              "      height: 32px;\n",
              "      padding: 0 0 0 0;\n",
              "      width: 32px;\n",
              "    }\n",
              "\n",
              "    .colab-df-convert:hover {\n",
              "      background-color: #E2EBFA;\n",
              "      box-shadow: 0px 1px 2px rgba(60, 64, 67, 0.3), 0px 1px 3px 1px rgba(60, 64, 67, 0.15);\n",
              "      fill: #174EA6;\n",
              "    }\n",
              "\n",
              "    [theme=dark] .colab-df-convert {\n",
              "      background-color: #3B4455;\n",
              "      fill: #D2E3FC;\n",
              "    }\n",
              "\n",
              "    [theme=dark] .colab-df-convert:hover {\n",
              "      background-color: #434B5C;\n",
              "      box-shadow: 0px 1px 3px 1px rgba(0, 0, 0, 0.15);\n",
              "      filter: drop-shadow(0px 1px 2px rgba(0, 0, 0, 0.3));\n",
              "      fill: #FFFFFF;\n",
              "    }\n",
              "  </style>\n",
              "\n",
              "      <script>\n",
              "        const buttonEl =\n",
              "          document.querySelector('#df-f6963ab8-a51a-4048-a59a-07eb50704a20 button.colab-df-convert');\n",
              "        buttonEl.style.display =\n",
              "          google.colab.kernel.accessAllowed ? 'block' : 'none';\n",
              "\n",
              "        async function convertToInteractive(key) {\n",
              "          const element = document.querySelector('#df-f6963ab8-a51a-4048-a59a-07eb50704a20');\n",
              "          const dataTable =\n",
              "            await google.colab.kernel.invokeFunction('convertToInteractive',\n",
              "                                                     [key], {});\n",
              "          if (!dataTable) return;\n",
              "\n",
              "          const docLinkHtml = 'Like what you see? Visit the ' +\n",
              "            '<a target=\"_blank\" href=https://colab.research.google.com/notebooks/data_table.ipynb>data table notebook</a>'\n",
              "            + ' to learn more about interactive tables.';\n",
              "          element.innerHTML = '';\n",
              "          dataTable['output_type'] = 'display_data';\n",
              "          await google.colab.output.renderOutput(dataTable, element);\n",
              "          const docLink = document.createElement('div');\n",
              "          docLink.innerHTML = docLinkHtml;\n",
              "          element.appendChild(docLink);\n",
              "        }\n",
              "      </script>\n",
              "    </div>\n",
              "  </div>\n"
            ]
          },
          "metadata": {},
          "execution_count": 33
        }
      ]
    },
    {
      "cell_type": "code",
      "metadata": {
        "id": "SNSsbuMis0-d"
      },
      "source": [
        "base_treinamento['tweet_text'] = base_treinamento['tweet_text'].apply(preprocessamento)"
      ],
      "execution_count": null,
      "outputs": []
    },
    {
      "cell_type": "code",
      "metadata": {
        "id": "wR742NJLusfy",
        "colab": {
          "base_uri": "https://localhost:8080/",
          "height": 363
        },
        "outputId": "ae224468-057b-41bc-b5ca-cd245c8e0f7c"
      },
      "source": [
        "base_treinamento.head(10)"
      ],
      "execution_count": null,
      "outputs": [
        {
          "output_type": "execute_result",
          "data": {
            "text/plain": [
              "                                          tweet_text  sentiment\n",
              "0           pessoa certa vale azevedo emocaopositiva          1\n",
              "1    mim precisamente contrário emocaopositiva ch...          1\n",
              "2  vou video hoje ... pensando falar meta csgo pa...          1\n",
              "3  aaaaaaaa amei polaroid expressar to apaixonada...          1\n",
              "4  valoriza coração menininho vc diferente faça s...          1\n",
              "5                            amiga to emocaopositiva          1\n",
              "6                         bravo jairo emocaopositiva          1\n",
              "7    socorro ksoaksosk acho to usando caixinha so...          1\n",
              "8    gosto fazenda emocaopositiva morro medo gali...          1\n",
              "9                    amanha vou venom emocaopositiva          1"
            ],
            "text/html": [
              "\n",
              "\n",
              "  <div id=\"df-81c723f2-d4e4-45a0-be02-b6f0d996dc68\">\n",
              "    <div class=\"colab-df-container\">\n",
              "      <div>\n",
              "<style scoped>\n",
              "    .dataframe tbody tr th:only-of-type {\n",
              "        vertical-align: middle;\n",
              "    }\n",
              "\n",
              "    .dataframe tbody tr th {\n",
              "        vertical-align: top;\n",
              "    }\n",
              "\n",
              "    .dataframe thead th {\n",
              "        text-align: right;\n",
              "    }\n",
              "</style>\n",
              "<table border=\"1\" class=\"dataframe\">\n",
              "  <thead>\n",
              "    <tr style=\"text-align: right;\">\n",
              "      <th></th>\n",
              "      <th>tweet_text</th>\n",
              "      <th>sentiment</th>\n",
              "    </tr>\n",
              "  </thead>\n",
              "  <tbody>\n",
              "    <tr>\n",
              "      <th>0</th>\n",
              "      <td>pessoa certa vale azevedo emocaopositiva</td>\n",
              "      <td>1</td>\n",
              "    </tr>\n",
              "    <tr>\n",
              "      <th>1</th>\n",
              "      <td>mim precisamente contrário emocaopositiva ch...</td>\n",
              "      <td>1</td>\n",
              "    </tr>\n",
              "    <tr>\n",
              "      <th>2</th>\n",
              "      <td>vou video hoje ... pensando falar meta csgo pa...</td>\n",
              "      <td>1</td>\n",
              "    </tr>\n",
              "    <tr>\n",
              "      <th>3</th>\n",
              "      <td>aaaaaaaa amei polaroid expressar to apaixonada...</td>\n",
              "      <td>1</td>\n",
              "    </tr>\n",
              "    <tr>\n",
              "      <th>4</th>\n",
              "      <td>valoriza coração menininho vc diferente faça s...</td>\n",
              "      <td>1</td>\n",
              "    </tr>\n",
              "    <tr>\n",
              "      <th>5</th>\n",
              "      <td>amiga to emocaopositiva</td>\n",
              "      <td>1</td>\n",
              "    </tr>\n",
              "    <tr>\n",
              "      <th>6</th>\n",
              "      <td>bravo jairo emocaopositiva</td>\n",
              "      <td>1</td>\n",
              "    </tr>\n",
              "    <tr>\n",
              "      <th>7</th>\n",
              "      <td>socorro ksoaksosk acho to usando caixinha so...</td>\n",
              "      <td>1</td>\n",
              "    </tr>\n",
              "    <tr>\n",
              "      <th>8</th>\n",
              "      <td>gosto fazenda emocaopositiva morro medo gali...</td>\n",
              "      <td>1</td>\n",
              "    </tr>\n",
              "    <tr>\n",
              "      <th>9</th>\n",
              "      <td>amanha vou venom emocaopositiva</td>\n",
              "      <td>1</td>\n",
              "    </tr>\n",
              "  </tbody>\n",
              "</table>\n",
              "</div>\n",
              "      <button class=\"colab-df-convert\" onclick=\"convertToInteractive('df-81c723f2-d4e4-45a0-be02-b6f0d996dc68')\"\n",
              "              title=\"Convert this dataframe to an interactive table.\"\n",
              "              style=\"display:none;\">\n",
              "\n",
              "  <svg xmlns=\"http://www.w3.org/2000/svg\" height=\"24px\"viewBox=\"0 0 24 24\"\n",
              "       width=\"24px\">\n",
              "    <path d=\"M0 0h24v24H0V0z\" fill=\"none\"/>\n",
              "    <path d=\"M18.56 5.44l.94 2.06.94-2.06 2.06-.94-2.06-.94-.94-2.06-.94 2.06-2.06.94zm-11 1L8.5 8.5l.94-2.06 2.06-.94-2.06-.94L8.5 2.5l-.94 2.06-2.06.94zm10 10l.94 2.06.94-2.06 2.06-.94-2.06-.94-.94-2.06-.94 2.06-2.06.94z\"/><path d=\"M17.41 7.96l-1.37-1.37c-.4-.4-.92-.59-1.43-.59-.52 0-1.04.2-1.43.59L10.3 9.45l-7.72 7.72c-.78.78-.78 2.05 0 2.83L4 21.41c.39.39.9.59 1.41.59.51 0 1.02-.2 1.41-.59l7.78-7.78 2.81-2.81c.8-.78.8-2.07 0-2.86zM5.41 20L4 18.59l7.72-7.72 1.47 1.35L5.41 20z\"/>\n",
              "  </svg>\n",
              "      </button>\n",
              "\n",
              "\n",
              "\n",
              "    <div id=\"df-23d87124-6de2-4626-afc4-85a4ed7d906d\">\n",
              "      <button class=\"colab-df-quickchart\" onclick=\"quickchart('df-23d87124-6de2-4626-afc4-85a4ed7d906d')\"\n",
              "              title=\"Suggest charts.\"\n",
              "              style=\"display:none;\">\n",
              "\n",
              "<svg xmlns=\"http://www.w3.org/2000/svg\" height=\"24px\"viewBox=\"0 0 24 24\"\n",
              "     width=\"24px\">\n",
              "    <g>\n",
              "        <path d=\"M19 3H5c-1.1 0-2 .9-2 2v14c0 1.1.9 2 2 2h14c1.1 0 2-.9 2-2V5c0-1.1-.9-2-2-2zM9 17H7v-7h2v7zm4 0h-2V7h2v10zm4 0h-2v-4h2v4z\"/>\n",
              "    </g>\n",
              "</svg>\n",
              "      </button>\n",
              "    </div>\n",
              "\n",
              "<style>\n",
              "  .colab-df-quickchart {\n",
              "    background-color: #E8F0FE;\n",
              "    border: none;\n",
              "    border-radius: 50%;\n",
              "    cursor: pointer;\n",
              "    display: none;\n",
              "    fill: #1967D2;\n",
              "    height: 32px;\n",
              "    padding: 0 0 0 0;\n",
              "    width: 32px;\n",
              "  }\n",
              "\n",
              "  .colab-df-quickchart:hover {\n",
              "    background-color: #E2EBFA;\n",
              "    box-shadow: 0px 1px 2px rgba(60, 64, 67, 0.3), 0px 1px 3px 1px rgba(60, 64, 67, 0.15);\n",
              "    fill: #174EA6;\n",
              "  }\n",
              "\n",
              "  [theme=dark] .colab-df-quickchart {\n",
              "    background-color: #3B4455;\n",
              "    fill: #D2E3FC;\n",
              "  }\n",
              "\n",
              "  [theme=dark] .colab-df-quickchart:hover {\n",
              "    background-color: #434B5C;\n",
              "    box-shadow: 0px 1px 3px 1px rgba(0, 0, 0, 0.15);\n",
              "    filter: drop-shadow(0px 1px 2px rgba(0, 0, 0, 0.3));\n",
              "    fill: #FFFFFF;\n",
              "  }\n",
              "</style>\n",
              "\n",
              "    <script>\n",
              "      async function quickchart(key) {\n",
              "        const containerElement = document.querySelector('#' + key);\n",
              "        const charts = await google.colab.kernel.invokeFunction(\n",
              "            'suggestCharts', [key], {});\n",
              "      }\n",
              "    </script>\n",
              "\n",
              "      <script>\n",
              "\n",
              "function displayQuickchartButton(domScope) {\n",
              "  let quickchartButtonEl =\n",
              "    domScope.querySelector('#df-23d87124-6de2-4626-afc4-85a4ed7d906d button.colab-df-quickchart');\n",
              "  quickchartButtonEl.style.display =\n",
              "    google.colab.kernel.accessAllowed ? 'block' : 'none';\n",
              "}\n",
              "\n",
              "        displayQuickchartButton(document);\n",
              "      </script>\n",
              "      <style>\n",
              "    .colab-df-container {\n",
              "      display:flex;\n",
              "      flex-wrap:wrap;\n",
              "      gap: 12px;\n",
              "    }\n",
              "\n",
              "    .colab-df-convert {\n",
              "      background-color: #E8F0FE;\n",
              "      border: none;\n",
              "      border-radius: 50%;\n",
              "      cursor: pointer;\n",
              "      display: none;\n",
              "      fill: #1967D2;\n",
              "      height: 32px;\n",
              "      padding: 0 0 0 0;\n",
              "      width: 32px;\n",
              "    }\n",
              "\n",
              "    .colab-df-convert:hover {\n",
              "      background-color: #E2EBFA;\n",
              "      box-shadow: 0px 1px 2px rgba(60, 64, 67, 0.3), 0px 1px 3px 1px rgba(60, 64, 67, 0.15);\n",
              "      fill: #174EA6;\n",
              "    }\n",
              "\n",
              "    [theme=dark] .colab-df-convert {\n",
              "      background-color: #3B4455;\n",
              "      fill: #D2E3FC;\n",
              "    }\n",
              "\n",
              "    [theme=dark] .colab-df-convert:hover {\n",
              "      background-color: #434B5C;\n",
              "      box-shadow: 0px 1px 3px 1px rgba(0, 0, 0, 0.15);\n",
              "      filter: drop-shadow(0px 1px 2px rgba(0, 0, 0, 0.3));\n",
              "      fill: #FFFFFF;\n",
              "    }\n",
              "  </style>\n",
              "\n",
              "      <script>\n",
              "        const buttonEl =\n",
              "          document.querySelector('#df-81c723f2-d4e4-45a0-be02-b6f0d996dc68 button.colab-df-convert');\n",
              "        buttonEl.style.display =\n",
              "          google.colab.kernel.accessAllowed ? 'block' : 'none';\n",
              "\n",
              "        async function convertToInteractive(key) {\n",
              "          const element = document.querySelector('#df-81c723f2-d4e4-45a0-be02-b6f0d996dc68');\n",
              "          const dataTable =\n",
              "            await google.colab.kernel.invokeFunction('convertToInteractive',\n",
              "                                                     [key], {});\n",
              "          if (!dataTable) return;\n",
              "\n",
              "          const docLinkHtml = 'Like what you see? Visit the ' +\n",
              "            '<a target=\"_blank\" href=https://colab.research.google.com/notebooks/data_table.ipynb>data table notebook</a>'\n",
              "            + ' to learn more about interactive tables.';\n",
              "          element.innerHTML = '';\n",
              "          dataTable['output_type'] = 'display_data';\n",
              "          await google.colab.output.renderOutput(dataTable, element);\n",
              "          const docLink = document.createElement('div');\n",
              "          docLink.innerHTML = docLinkHtml;\n",
              "          element.appendChild(docLink);\n",
              "        }\n",
              "      </script>\n",
              "    </div>\n",
              "  </div>\n"
            ]
          },
          "metadata": {},
          "execution_count": 35
        }
      ]
    },
    {
      "cell_type": "code",
      "metadata": {
        "id": "DI1GvLX1uyr4"
      },
      "source": [
        "base_teste['tweet_text'] = base_teste['tweet_text'].apply(preprocessamento)"
      ],
      "execution_count": null,
      "outputs": []
    },
    {
      "cell_type": "code",
      "metadata": {
        "id": "jTGab2hXvGSr",
        "colab": {
          "base_uri": "https://localhost:8080/",
          "height": 363
        },
        "outputId": "e871b258-40fe-497c-f4d2-1ac25cc6a1b4"
      },
      "source": [
        "base_teste.head(10)"
      ],
      "execution_count": null,
      "outputs": [
        {
          "output_type": "execute_result",
          "data": {
            "text/plain": [
              "                                          tweet_text  sentiment\n",
              "0                                     emocaopositiva          1\n",
              "1                       pa puta pariu emocaopositiva          1\n",
              "2  desconto 14/08 ⭐ ⭐ ⭐ ⭐ ⭐ 🌐 confira link ➔ » co...          1\n",
              "3  vou vcs I ajudem galera amor butera emocaoposi...          1\n",
              "4  estávamos casa zé morrer sono chego casa fico ...          1\n",
              "5                             precisa emocaopositiva          1\n",
              "6    acaso adoro beijos abraços hahahahaha bue fo...          1\n",
              "7                  solteiro s sozinho emocaopositiva          1\n",
              "8  lindezas cortador kit mário coleção bia cravol...          1\n",
              "9                               claro emocaopositiva          1"
            ],
            "text/html": [
              "\n",
              "\n",
              "  <div id=\"df-5a609a23-2524-4a58-8027-b99cd812316b\">\n",
              "    <div class=\"colab-df-container\">\n",
              "      <div>\n",
              "<style scoped>\n",
              "    .dataframe tbody tr th:only-of-type {\n",
              "        vertical-align: middle;\n",
              "    }\n",
              "\n",
              "    .dataframe tbody tr th {\n",
              "        vertical-align: top;\n",
              "    }\n",
              "\n",
              "    .dataframe thead th {\n",
              "        text-align: right;\n",
              "    }\n",
              "</style>\n",
              "<table border=\"1\" class=\"dataframe\">\n",
              "  <thead>\n",
              "    <tr style=\"text-align: right;\">\n",
              "      <th></th>\n",
              "      <th>tweet_text</th>\n",
              "      <th>sentiment</th>\n",
              "    </tr>\n",
              "  </thead>\n",
              "  <tbody>\n",
              "    <tr>\n",
              "      <th>0</th>\n",
              "      <td>emocaopositiva</td>\n",
              "      <td>1</td>\n",
              "    </tr>\n",
              "    <tr>\n",
              "      <th>1</th>\n",
              "      <td>pa puta pariu emocaopositiva</td>\n",
              "      <td>1</td>\n",
              "    </tr>\n",
              "    <tr>\n",
              "      <th>2</th>\n",
              "      <td>desconto 14/08 ⭐ ⭐ ⭐ ⭐ ⭐ 🌐 confira link ➔ » co...</td>\n",
              "      <td>1</td>\n",
              "    </tr>\n",
              "    <tr>\n",
              "      <th>3</th>\n",
              "      <td>vou vcs I ajudem galera amor butera emocaoposi...</td>\n",
              "      <td>1</td>\n",
              "    </tr>\n",
              "    <tr>\n",
              "      <th>4</th>\n",
              "      <td>estávamos casa zé morrer sono chego casa fico ...</td>\n",
              "      <td>1</td>\n",
              "    </tr>\n",
              "    <tr>\n",
              "      <th>5</th>\n",
              "      <td>precisa emocaopositiva</td>\n",
              "      <td>1</td>\n",
              "    </tr>\n",
              "    <tr>\n",
              "      <th>6</th>\n",
              "      <td>acaso adoro beijos abraços hahahahaha bue fo...</td>\n",
              "      <td>1</td>\n",
              "    </tr>\n",
              "    <tr>\n",
              "      <th>7</th>\n",
              "      <td>solteiro s sozinho emocaopositiva</td>\n",
              "      <td>1</td>\n",
              "    </tr>\n",
              "    <tr>\n",
              "      <th>8</th>\n",
              "      <td>lindezas cortador kit mário coleção bia cravol...</td>\n",
              "      <td>1</td>\n",
              "    </tr>\n",
              "    <tr>\n",
              "      <th>9</th>\n",
              "      <td>claro emocaopositiva</td>\n",
              "      <td>1</td>\n",
              "    </tr>\n",
              "  </tbody>\n",
              "</table>\n",
              "</div>\n",
              "      <button class=\"colab-df-convert\" onclick=\"convertToInteractive('df-5a609a23-2524-4a58-8027-b99cd812316b')\"\n",
              "              title=\"Convert this dataframe to an interactive table.\"\n",
              "              style=\"display:none;\">\n",
              "\n",
              "  <svg xmlns=\"http://www.w3.org/2000/svg\" height=\"24px\"viewBox=\"0 0 24 24\"\n",
              "       width=\"24px\">\n",
              "    <path d=\"M0 0h24v24H0V0z\" fill=\"none\"/>\n",
              "    <path d=\"M18.56 5.44l.94 2.06.94-2.06 2.06-.94-2.06-.94-.94-2.06-.94 2.06-2.06.94zm-11 1L8.5 8.5l.94-2.06 2.06-.94-2.06-.94L8.5 2.5l-.94 2.06-2.06.94zm10 10l.94 2.06.94-2.06 2.06-.94-2.06-.94-.94-2.06-.94 2.06-2.06.94z\"/><path d=\"M17.41 7.96l-1.37-1.37c-.4-.4-.92-.59-1.43-.59-.52 0-1.04.2-1.43.59L10.3 9.45l-7.72 7.72c-.78.78-.78 2.05 0 2.83L4 21.41c.39.39.9.59 1.41.59.51 0 1.02-.2 1.41-.59l7.78-7.78 2.81-2.81c.8-.78.8-2.07 0-2.86zM5.41 20L4 18.59l7.72-7.72 1.47 1.35L5.41 20z\"/>\n",
              "  </svg>\n",
              "      </button>\n",
              "\n",
              "\n",
              "\n",
              "    <div id=\"df-cf1e046e-28a7-4059-944c-8d8d428b8bae\">\n",
              "      <button class=\"colab-df-quickchart\" onclick=\"quickchart('df-cf1e046e-28a7-4059-944c-8d8d428b8bae')\"\n",
              "              title=\"Suggest charts.\"\n",
              "              style=\"display:none;\">\n",
              "\n",
              "<svg xmlns=\"http://www.w3.org/2000/svg\" height=\"24px\"viewBox=\"0 0 24 24\"\n",
              "     width=\"24px\">\n",
              "    <g>\n",
              "        <path d=\"M19 3H5c-1.1 0-2 .9-2 2v14c0 1.1.9 2 2 2h14c1.1 0 2-.9 2-2V5c0-1.1-.9-2-2-2zM9 17H7v-7h2v7zm4 0h-2V7h2v10zm4 0h-2v-4h2v4z\"/>\n",
              "    </g>\n",
              "</svg>\n",
              "      </button>\n",
              "    </div>\n",
              "\n",
              "<style>\n",
              "  .colab-df-quickchart {\n",
              "    background-color: #E8F0FE;\n",
              "    border: none;\n",
              "    border-radius: 50%;\n",
              "    cursor: pointer;\n",
              "    display: none;\n",
              "    fill: #1967D2;\n",
              "    height: 32px;\n",
              "    padding: 0 0 0 0;\n",
              "    width: 32px;\n",
              "  }\n",
              "\n",
              "  .colab-df-quickchart:hover {\n",
              "    background-color: #E2EBFA;\n",
              "    box-shadow: 0px 1px 2px rgba(60, 64, 67, 0.3), 0px 1px 3px 1px rgba(60, 64, 67, 0.15);\n",
              "    fill: #174EA6;\n",
              "  }\n",
              "\n",
              "  [theme=dark] .colab-df-quickchart {\n",
              "    background-color: #3B4455;\n",
              "    fill: #D2E3FC;\n",
              "  }\n",
              "\n",
              "  [theme=dark] .colab-df-quickchart:hover {\n",
              "    background-color: #434B5C;\n",
              "    box-shadow: 0px 1px 3px 1px rgba(0, 0, 0, 0.15);\n",
              "    filter: drop-shadow(0px 1px 2px rgba(0, 0, 0, 0.3));\n",
              "    fill: #FFFFFF;\n",
              "  }\n",
              "</style>\n",
              "\n",
              "    <script>\n",
              "      async function quickchart(key) {\n",
              "        const containerElement = document.querySelector('#' + key);\n",
              "        const charts = await google.colab.kernel.invokeFunction(\n",
              "            'suggestCharts', [key], {});\n",
              "      }\n",
              "    </script>\n",
              "\n",
              "      <script>\n",
              "\n",
              "function displayQuickchartButton(domScope) {\n",
              "  let quickchartButtonEl =\n",
              "    domScope.querySelector('#df-cf1e046e-28a7-4059-944c-8d8d428b8bae button.colab-df-quickchart');\n",
              "  quickchartButtonEl.style.display =\n",
              "    google.colab.kernel.accessAllowed ? 'block' : 'none';\n",
              "}\n",
              "\n",
              "        displayQuickchartButton(document);\n",
              "      </script>\n",
              "      <style>\n",
              "    .colab-df-container {\n",
              "      display:flex;\n",
              "      flex-wrap:wrap;\n",
              "      gap: 12px;\n",
              "    }\n",
              "\n",
              "    .colab-df-convert {\n",
              "      background-color: #E8F0FE;\n",
              "      border: none;\n",
              "      border-radius: 50%;\n",
              "      cursor: pointer;\n",
              "      display: none;\n",
              "      fill: #1967D2;\n",
              "      height: 32px;\n",
              "      padding: 0 0 0 0;\n",
              "      width: 32px;\n",
              "    }\n",
              "\n",
              "    .colab-df-convert:hover {\n",
              "      background-color: #E2EBFA;\n",
              "      box-shadow: 0px 1px 2px rgba(60, 64, 67, 0.3), 0px 1px 3px 1px rgba(60, 64, 67, 0.15);\n",
              "      fill: #174EA6;\n",
              "    }\n",
              "\n",
              "    [theme=dark] .colab-df-convert {\n",
              "      background-color: #3B4455;\n",
              "      fill: #D2E3FC;\n",
              "    }\n",
              "\n",
              "    [theme=dark] .colab-df-convert:hover {\n",
              "      background-color: #434B5C;\n",
              "      box-shadow: 0px 1px 3px 1px rgba(0, 0, 0, 0.15);\n",
              "      filter: drop-shadow(0px 1px 2px rgba(0, 0, 0, 0.3));\n",
              "      fill: #FFFFFF;\n",
              "    }\n",
              "  </style>\n",
              "\n",
              "      <script>\n",
              "        const buttonEl =\n",
              "          document.querySelector('#df-5a609a23-2524-4a58-8027-b99cd812316b button.colab-df-convert');\n",
              "        buttonEl.style.display =\n",
              "          google.colab.kernel.accessAllowed ? 'block' : 'none';\n",
              "\n",
              "        async function convertToInteractive(key) {\n",
              "          const element = document.querySelector('#df-5a609a23-2524-4a58-8027-b99cd812316b');\n",
              "          const dataTable =\n",
              "            await google.colab.kernel.invokeFunction('convertToInteractive',\n",
              "                                                     [key], {});\n",
              "          if (!dataTable) return;\n",
              "\n",
              "          const docLinkHtml = 'Like what you see? Visit the ' +\n",
              "            '<a target=\"_blank\" href=https://colab.research.google.com/notebooks/data_table.ipynb>data table notebook</a>'\n",
              "            + ' to learn more about interactive tables.';\n",
              "          element.innerHTML = '';\n",
              "          dataTable['output_type'] = 'display_data';\n",
              "          await google.colab.output.renderOutput(dataTable, element);\n",
              "          const docLink = document.createElement('div');\n",
              "          docLink.innerHTML = docLinkHtml;\n",
              "          element.appendChild(docLink);\n",
              "        }\n",
              "      </script>\n",
              "    </div>\n",
              "  </div>\n"
            ]
          },
          "metadata": {},
          "execution_count": 37
        }
      ]
    },
    {
      "cell_type": "markdown",
      "metadata": {
        "id": "trA39YO4PcFp"
      },
      "source": [
        "### Tratamento da classe"
      ]
    },
    {
      "cell_type": "code",
      "metadata": {
        "id": "SPPY0MlIYoTR"
      },
      "source": [
        "exemplo_base_dados = [[\"este trabalho é agradável\", {\"POSITIVO\": True, \"NEGATIVO\": False}],\n",
        "                      [\"este lugar continua assustador\", {\"POSITIVO\": False, \"NEGATIVO\": True}]]"
      ],
      "execution_count": null,
      "outputs": []
    },
    {
      "cell_type": "code",
      "metadata": {
        "id": "TH31QeqEyrub"
      },
      "source": [
        "base_dados_treinamento_final = []\n",
        "for texto, emocao in zip(base_treinamento['tweet_text'], base_treinamento['sentiment']):\n",
        "  if emocao == 1:\n",
        "    dic = ({'POSITIVO': True, 'NEGATIVO': False})\n",
        "  elif emocao == 0:\n",
        "    dic = ({'POSITIVO': False, 'NEGATIVO': True})\n",
        "\n",
        "  base_dados_treinamento_final.append([texto, dic.copy()])"
      ],
      "execution_count": null,
      "outputs": []
    },
    {
      "cell_type": "code",
      "metadata": {
        "id": "kwFKyNZM2TFj",
        "colab": {
          "base_uri": "https://localhost:8080/"
        },
        "outputId": "61e78382-40c2-46a1-f194-c3e37e1977cc"
      },
      "source": [
        "len(base_dados_treinamento_final)"
      ],
      "execution_count": null,
      "outputs": [
        {
          "output_type": "execute_result",
          "data": {
            "text/plain": [
              "50000"
            ]
          },
          "metadata": {},
          "execution_count": 40
        }
      ]
    },
    {
      "cell_type": "code",
      "metadata": {
        "id": "_3D9UkMI2W60",
        "colab": {
          "base_uri": "https://localhost:8080/"
        },
        "outputId": "a36d2d84-bd0d-4f93-c971-ae2a2cd508b7"
      },
      "source": [
        "base_dados_treinamento_final[10:15]"
      ],
      "execution_count": null,
      "outputs": [
        {
          "output_type": "execute_result",
          "data": {
            "text/plain": [
              "[['simplesmente I deixam chateada coisas muitooo I iludir emocaopositiva',\n",
              "  {'POSITIVO': True, 'NEGATIVO': False}],\n",
              " ['começa rotina perfeitamente consolidar escola condução :p',\n",
              "  {'POSITIVO': True, 'NEGATIVO': False}],\n",
              " ['amigo apaixonado vc — recíproco emocaopositiva',\n",
              "  {'POSITIVO': True, 'NEGATIVO': False}],\n",
              " ['  gajo bacano vê I aleijas espero silva sejam felize emocaopositiva',\n",
              "  {'POSITIVO': True, 'NEGATIVO': False}],\n",
              " ['tou video cabrinhas bebés emocaopositiva',\n",
              "  {'POSITIVO': True, 'NEGATIVO': False}]]"
            ]
          },
          "metadata": {},
          "execution_count": 41
        }
      ]
    },
    {
      "cell_type": "code",
      "metadata": {
        "id": "E8C-_9AB2fEM",
        "colab": {
          "base_uri": "https://localhost:8080/"
        },
        "outputId": "d957ea4f-3e2f-44dd-8d3e-333a55e85248"
      },
      "source": [
        "base_dados_treinamento_final[45000:45005]"
      ],
      "execution_count": null,
      "outputs": [
        {
          "output_type": "execute_result",
          "data": {
            "text/plain": [
              "[['menino pijama listrado filme triste mundo estrutura pra assistir rever to pensando nisso emocaonegativa',\n",
              "  {'POSITIVO': False, 'NEGATIVO': True}],\n",
              " ['pra ido vídeo luísa raiz poliana infelizmente twitter tá ruim amanhã tento postar emocaonegativa asaventurasdepoliana099',\n",
              "  {'POSITIVO': False, 'NEGATIVO': True}],\n",
              " ['to crise abstinência stranger emocaonegativa — tbm :/ to tentando',\n",
              "  {'POSITIVO': False, 'NEGATIVO': True}],\n",
              " ['  tinha esquecido olhar pra pagar mensalidade turma pro curso emocaonegativa',\n",
              "  {'POSITIVO': False, 'NEGATIVO': True}],\n",
              " ['comer doce comi monte hoje emocaonegativa maldição',\n",
              "  {'POSITIVO': False, 'NEGATIVO': True}]]"
            ]
          },
          "metadata": {},
          "execution_count": 42
        }
      ]
    },
    {
      "cell_type": "markdown",
      "metadata": {
        "id": "5mc19ZByUNsu"
      },
      "source": [
        "# Criação do classificador"
      ]
    },
    {
      "cell_type": "code",
      "metadata": {
        "id": "YnZ1orji7Iv8"
      },
      "source": [
        "modelo = spacy.blank('pt')\n",
        "categorias = modelo.add_pipe(\"textcat\")\n",
        "categorias.add_label(\"POSITIVO\")\n",
        "categorias.add_label(\"NEGATIVO\")\n",
        "historico = []"
      ],
      "execution_count": null,
      "outputs": []
    },
    {
      "cell_type": "code",
      "source": [
        "from spacy.training import Example"
      ],
      "metadata": {
        "id": "qrlF8xJL305E"
      },
      "execution_count": null,
      "outputs": []
    },
    {
      "cell_type": "code",
      "metadata": {
        "id": "3jlGvLEz764Y",
        "colab": {
          "base_uri": "https://localhost:8080/"
        },
        "outputId": "9d43155d-6d7f-4b70-cefc-f514423517da"
      },
      "source": [
        "modelo.begin_training()\n",
        "for epoca in range(5):\n",
        "  random.shuffle(base_dados_treinamento_final)\n",
        "  losses = {}\n",
        "  for batch in spacy.util.minibatch(base_dados_treinamento_final, 512):\n",
        "    textos = [modelo(texto) for texto, entities in batch]\n",
        "    annotations = [{'cats': entities} for texto, entities in batch]\n",
        "    examples = [Example.from_dict(doc, annotation) for doc, annotation in zip(\n",
        "        textos, annotations\n",
        "      )]\n",
        "    modelo.update(examples, losses=losses)\n",
        "    historico.append(losses)\n",
        "  if epoca % 5 == 0:\n",
        "    print(losses)"
      ],
      "execution_count": null,
      "outputs": [
        {
          "output_type": "stream",
          "name": "stdout",
          "text": [
            "{'textcat': 1.9721873684515572}\n"
          ]
        }
      ]
    },
    {
      "cell_type": "code",
      "metadata": {
        "id": "wSe-tDsCAciN"
      },
      "source": [
        "historico_loss = []\n",
        "for i in historico:\n",
        "  historico_loss.append(i.get('textcat'))"
      ],
      "execution_count": null,
      "outputs": []
    },
    {
      "cell_type": "code",
      "metadata": {
        "id": "ShJhtbYtAr50",
        "colab": {
          "base_uri": "https://localhost:8080/"
        },
        "outputId": "c8ec0b48-5457-46cd-ff7e-6f05c9d6c8f5"
      },
      "source": [
        "historico_loss = np.array(historico_loss)\n",
        "historico_loss"
      ],
      "execution_count": null,
      "outputs": [
        {
          "output_type": "execute_result",
          "data": {
            "text/plain": [
              "array([1.97218737e+00, 1.97218737e+00, 1.97218737e+00, 1.97218737e+00,\n",
              "       1.97218737e+00, 1.97218737e+00, 1.97218737e+00, 1.97218737e+00,\n",
              "       1.97218737e+00, 1.97218737e+00, 1.97218737e+00, 1.97218737e+00,\n",
              "       1.97218737e+00, 1.97218737e+00, 1.97218737e+00, 1.97218737e+00,\n",
              "       1.97218737e+00, 1.97218737e+00, 1.97218737e+00, 1.97218737e+00,\n",
              "       1.97218737e+00, 1.97218737e+00, 1.97218737e+00, 1.97218737e+00,\n",
              "       1.97218737e+00, 1.97218737e+00, 1.97218737e+00, 1.97218737e+00,\n",
              "       1.97218737e+00, 1.97218737e+00, 1.97218737e+00, 1.97218737e+00,\n",
              "       1.97218737e+00, 1.97218737e+00, 1.97218737e+00, 1.97218737e+00,\n",
              "       1.97218737e+00, 1.97218737e+00, 1.97218737e+00, 1.97218737e+00,\n",
              "       1.97218737e+00, 1.97218737e+00, 1.97218737e+00, 1.97218737e+00,\n",
              "       1.97218737e+00, 1.97218737e+00, 1.97218737e+00, 1.97218737e+00,\n",
              "       1.97218737e+00, 1.97218737e+00, 1.97218737e+00, 1.97218737e+00,\n",
              "       1.97218737e+00, 1.97218737e+00, 1.97218737e+00, 1.97218737e+00,\n",
              "       1.97218737e+00, 1.97218737e+00, 1.97218737e+00, 1.97218737e+00,\n",
              "       1.97218737e+00, 1.97218737e+00, 1.97218737e+00, 1.97218737e+00,\n",
              "       1.97218737e+00, 1.97218737e+00, 1.97218737e+00, 1.97218737e+00,\n",
              "       1.97218737e+00, 1.97218737e+00, 1.97218737e+00, 1.97218737e+00,\n",
              "       1.97218737e+00, 1.97218737e+00, 1.97218737e+00, 1.97218737e+00,\n",
              "       1.97218737e+00, 1.97218737e+00, 1.97218737e+00, 1.97218737e+00,\n",
              "       1.97218737e+00, 1.97218737e+00, 1.97218737e+00, 1.97218737e+00,\n",
              "       1.97218737e+00, 1.97218737e+00, 1.97218737e+00, 1.97218737e+00,\n",
              "       1.97218737e+00, 1.97218737e+00, 1.97218737e+00, 1.97218737e+00,\n",
              "       1.97218737e+00, 1.97218737e+00, 1.97218737e+00, 1.97218737e+00,\n",
              "       1.97218737e+00, 1.97218737e+00, 7.47375790e-02, 7.47375790e-02,\n",
              "       7.47375790e-02, 7.47375790e-02, 7.47375790e-02, 7.47375790e-02,\n",
              "       7.47375790e-02, 7.47375790e-02, 7.47375790e-02, 7.47375790e-02,\n",
              "       7.47375790e-02, 7.47375790e-02, 7.47375790e-02, 7.47375790e-02,\n",
              "       7.47375790e-02, 7.47375790e-02, 7.47375790e-02, 7.47375790e-02,\n",
              "       7.47375790e-02, 7.47375790e-02, 7.47375790e-02, 7.47375790e-02,\n",
              "       7.47375790e-02, 7.47375790e-02, 7.47375790e-02, 7.47375790e-02,\n",
              "       7.47375790e-02, 7.47375790e-02, 7.47375790e-02, 7.47375790e-02,\n",
              "       7.47375790e-02, 7.47375790e-02, 7.47375790e-02, 7.47375790e-02,\n",
              "       7.47375790e-02, 7.47375790e-02, 7.47375790e-02, 7.47375790e-02,\n",
              "       7.47375790e-02, 7.47375790e-02, 7.47375790e-02, 7.47375790e-02,\n",
              "       7.47375790e-02, 7.47375790e-02, 7.47375790e-02, 7.47375790e-02,\n",
              "       7.47375790e-02, 7.47375790e-02, 7.47375790e-02, 7.47375790e-02,\n",
              "       7.47375790e-02, 7.47375790e-02, 7.47375790e-02, 7.47375790e-02,\n",
              "       7.47375790e-02, 7.47375790e-02, 7.47375790e-02, 7.47375790e-02,\n",
              "       7.47375790e-02, 7.47375790e-02, 7.47375790e-02, 7.47375790e-02,\n",
              "       7.47375790e-02, 7.47375790e-02, 7.47375790e-02, 7.47375790e-02,\n",
              "       7.47375790e-02, 7.47375790e-02, 7.47375790e-02, 7.47375790e-02,\n",
              "       7.47375790e-02, 7.47375790e-02, 7.47375790e-02, 7.47375790e-02,\n",
              "       7.47375790e-02, 7.47375790e-02, 7.47375790e-02, 7.47375790e-02,\n",
              "       7.47375790e-02, 7.47375790e-02, 7.47375790e-02, 7.47375790e-02,\n",
              "       7.47375790e-02, 7.47375790e-02, 7.47375790e-02, 7.47375790e-02,\n",
              "       7.47375790e-02, 7.47375790e-02, 7.47375790e-02, 7.47375790e-02,\n",
              "       7.47375790e-02, 7.47375790e-02, 7.47375790e-02, 7.47375790e-02,\n",
              "       7.47375790e-02, 7.47375790e-02, 7.47375790e-02, 7.47375790e-02,\n",
              "       9.40559078e-03, 9.40559078e-03, 9.40559078e-03, 9.40559078e-03,\n",
              "       9.40559078e-03, 9.40559078e-03, 9.40559078e-03, 9.40559078e-03,\n",
              "       9.40559078e-03, 9.40559078e-03, 9.40559078e-03, 9.40559078e-03,\n",
              "       9.40559078e-03, 9.40559078e-03, 9.40559078e-03, 9.40559078e-03,\n",
              "       9.40559078e-03, 9.40559078e-03, 9.40559078e-03, 9.40559078e-03,\n",
              "       9.40559078e-03, 9.40559078e-03, 9.40559078e-03, 9.40559078e-03,\n",
              "       9.40559078e-03, 9.40559078e-03, 9.40559078e-03, 9.40559078e-03,\n",
              "       9.40559078e-03, 9.40559078e-03, 9.40559078e-03, 9.40559078e-03,\n",
              "       9.40559078e-03, 9.40559078e-03, 9.40559078e-03, 9.40559078e-03,\n",
              "       9.40559078e-03, 9.40559078e-03, 9.40559078e-03, 9.40559078e-03,\n",
              "       9.40559078e-03, 9.40559078e-03, 9.40559078e-03, 9.40559078e-03,\n",
              "       9.40559078e-03, 9.40559078e-03, 9.40559078e-03, 9.40559078e-03,\n",
              "       9.40559078e-03, 9.40559078e-03, 9.40559078e-03, 9.40559078e-03,\n",
              "       9.40559078e-03, 9.40559078e-03, 9.40559078e-03, 9.40559078e-03,\n",
              "       9.40559078e-03, 9.40559078e-03, 9.40559078e-03, 9.40559078e-03,\n",
              "       9.40559078e-03, 9.40559078e-03, 9.40559078e-03, 9.40559078e-03,\n",
              "       9.40559078e-03, 9.40559078e-03, 9.40559078e-03, 9.40559078e-03,\n",
              "       9.40559078e-03, 9.40559078e-03, 9.40559078e-03, 9.40559078e-03,\n",
              "       9.40559078e-03, 9.40559078e-03, 9.40559078e-03, 9.40559078e-03,\n",
              "       9.40559078e-03, 9.40559078e-03, 9.40559078e-03, 9.40559078e-03,\n",
              "       9.40559078e-03, 9.40559078e-03, 9.40559078e-03, 9.40559078e-03,\n",
              "       9.40559078e-03, 9.40559078e-03, 9.40559078e-03, 9.40559078e-03,\n",
              "       9.40559078e-03, 9.40559078e-03, 9.40559078e-03, 9.40559078e-03,\n",
              "       9.40559078e-03, 9.40559078e-03, 9.40559078e-03, 9.40559078e-03,\n",
              "       9.40559078e-03, 9.40559078e-03, 5.65297705e-03, 5.65297705e-03,\n",
              "       5.65297705e-03, 5.65297705e-03, 5.65297705e-03, 5.65297705e-03,\n",
              "       5.65297705e-03, 5.65297705e-03, 5.65297705e-03, 5.65297705e-03,\n",
              "       5.65297705e-03, 5.65297705e-03, 5.65297705e-03, 5.65297705e-03,\n",
              "       5.65297705e-03, 5.65297705e-03, 5.65297705e-03, 5.65297705e-03,\n",
              "       5.65297705e-03, 5.65297705e-03, 5.65297705e-03, 5.65297705e-03,\n",
              "       5.65297705e-03, 5.65297705e-03, 5.65297705e-03, 5.65297705e-03,\n",
              "       5.65297705e-03, 5.65297705e-03, 5.65297705e-03, 5.65297705e-03,\n",
              "       5.65297705e-03, 5.65297705e-03, 5.65297705e-03, 5.65297705e-03,\n",
              "       5.65297705e-03, 5.65297705e-03, 5.65297705e-03, 5.65297705e-03,\n",
              "       5.65297705e-03, 5.65297705e-03, 5.65297705e-03, 5.65297705e-03,\n",
              "       5.65297705e-03, 5.65297705e-03, 5.65297705e-03, 5.65297705e-03,\n",
              "       5.65297705e-03, 5.65297705e-03, 5.65297705e-03, 5.65297705e-03,\n",
              "       5.65297705e-03, 5.65297705e-03, 5.65297705e-03, 5.65297705e-03,\n",
              "       5.65297705e-03, 5.65297705e-03, 5.65297705e-03, 5.65297705e-03,\n",
              "       5.65297705e-03, 5.65297705e-03, 5.65297705e-03, 5.65297705e-03,\n",
              "       5.65297705e-03, 5.65297705e-03, 5.65297705e-03, 5.65297705e-03,\n",
              "       5.65297705e-03, 5.65297705e-03, 5.65297705e-03, 5.65297705e-03,\n",
              "       5.65297705e-03, 5.65297705e-03, 5.65297705e-03, 5.65297705e-03,\n",
              "       5.65297705e-03, 5.65297705e-03, 5.65297705e-03, 5.65297705e-03,\n",
              "       5.65297705e-03, 5.65297705e-03, 5.65297705e-03, 5.65297705e-03,\n",
              "       5.65297705e-03, 5.65297705e-03, 5.65297705e-03, 5.65297705e-03,\n",
              "       5.65297705e-03, 5.65297705e-03, 5.65297705e-03, 5.65297705e-03,\n",
              "       5.65297705e-03, 5.65297705e-03, 5.65297705e-03, 5.65297705e-03,\n",
              "       5.65297705e-03, 5.65297705e-03, 5.65297705e-03, 5.65297705e-03,\n",
              "       1.08497948e-06, 1.08497948e-06, 1.08497948e-06, 1.08497948e-06,\n",
              "       1.08497948e-06, 1.08497948e-06, 1.08497948e-06, 1.08497948e-06,\n",
              "       1.08497948e-06, 1.08497948e-06, 1.08497948e-06, 1.08497948e-06,\n",
              "       1.08497948e-06, 1.08497948e-06, 1.08497948e-06, 1.08497948e-06,\n",
              "       1.08497948e-06, 1.08497948e-06, 1.08497948e-06, 1.08497948e-06,\n",
              "       1.08497948e-06, 1.08497948e-06, 1.08497948e-06, 1.08497948e-06,\n",
              "       1.08497948e-06, 1.08497948e-06, 1.08497948e-06, 1.08497948e-06,\n",
              "       1.08497948e-06, 1.08497948e-06, 1.08497948e-06, 1.08497948e-06,\n",
              "       1.08497948e-06, 1.08497948e-06, 1.08497948e-06, 1.08497948e-06,\n",
              "       1.08497948e-06, 1.08497948e-06, 1.08497948e-06, 1.08497948e-06,\n",
              "       1.08497948e-06, 1.08497948e-06, 1.08497948e-06, 1.08497948e-06,\n",
              "       1.08497948e-06, 1.08497948e-06, 1.08497948e-06, 1.08497948e-06,\n",
              "       1.08497948e-06, 1.08497948e-06, 1.08497948e-06, 1.08497948e-06,\n",
              "       1.08497948e-06, 1.08497948e-06, 1.08497948e-06, 1.08497948e-06,\n",
              "       1.08497948e-06, 1.08497948e-06, 1.08497948e-06, 1.08497948e-06,\n",
              "       1.08497948e-06, 1.08497948e-06, 1.08497948e-06, 1.08497948e-06,\n",
              "       1.08497948e-06, 1.08497948e-06, 1.08497948e-06, 1.08497948e-06,\n",
              "       1.08497948e-06, 1.08497948e-06, 1.08497948e-06, 1.08497948e-06,\n",
              "       1.08497948e-06, 1.08497948e-06, 1.08497948e-06, 1.08497948e-06,\n",
              "       1.08497948e-06, 1.08497948e-06, 1.08497948e-06, 1.08497948e-06,\n",
              "       1.08497948e-06, 1.08497948e-06, 1.08497948e-06, 1.08497948e-06,\n",
              "       1.08497948e-06, 1.08497948e-06, 1.08497948e-06, 1.08497948e-06,\n",
              "       1.08497948e-06, 1.08497948e-06, 1.08497948e-06, 1.08497948e-06,\n",
              "       1.08497948e-06, 1.08497948e-06, 1.08497948e-06, 1.08497948e-06,\n",
              "       1.08497948e-06, 1.08497948e-06])"
            ]
          },
          "metadata": {},
          "execution_count": 56
        }
      ]
    },
    {
      "cell_type": "code",
      "metadata": {
        "id": "6lEL-QoBA0KI",
        "colab": {
          "base_uri": "https://localhost:8080/",
          "height": 490
        },
        "outputId": "a7e3f53f-4863-4230-83ec-72d7eedf8585"
      },
      "source": [
        "import matplotlib.pyplot as plt\n",
        "plt.plot(historico_loss)\n",
        "plt.title('Progressão do erro')\n",
        "plt.xlabel('Batches')\n",
        "plt.ylabel('Erro')"
      ],
      "execution_count": null,
      "outputs": [
        {
          "output_type": "execute_result",
          "data": {
            "text/plain": [
              "Text(0, 0.5, 'Erro')"
            ]
          },
          "metadata": {},
          "execution_count": 57
        },
        {
          "output_type": "display_data",
          "data": {
            "text/plain": [
              "<Figure size 640x480 with 1 Axes>"
            ],
            "image/png": "[encoded data removed]"
          },
          "metadata": {}
        }
      ]
    },
    {
      "cell_type": "code",
      "metadata": {
        "id": "amNE8xy_BPSF"
      },
      "source": [
        "modelo.to_disk(\"modelo\")"
      ],
      "execution_count": null,
      "outputs": []
    },
    {
      "cell_type": "markdown",
      "metadata": {
        "id": "ePMk8G0Dl6wg"
      },
      "source": [
        "# Testes com uma frase"
      ]
    },
    {
      "cell_type": "code",
      "metadata": {
        "id": "W-7DO-DoAyPU",
        "colab": {
          "base_uri": "https://localhost:8080/"
        },
        "outputId": "66cda917-0e59-42f9-f12f-085c2ff4ebe0"
      },
      "source": [
        "modelo_carregado = spacy.load('modelo')\n",
        "modelo_carregado"
      ],
      "execution_count": null,
      "outputs": [
        {
          "output_type": "execute_result",
          "data": {
            "text/plain": [
              "<spacy.lang.pt.Portuguese at 0x7f73126ba980>"
            ]
          },
          "metadata": {},
          "execution_count": 59
        }
      ]
    },
    {
      "cell_type": "markdown",
      "metadata": {
        "id": "RZxpVOP4wJT9"
      },
      "source": [
        "## Texto positivo"
      ]
    },
    {
      "cell_type": "code",
      "metadata": {
        "id": "fGB9HS7BBEK2",
        "colab": {
          "base_uri": "https://localhost:8080/",
          "height": 36
        },
        "outputId": "95bc0afe-ff35-4978-e831-c8b3f82bc393"
      },
      "source": [
        "texto_positivo = base_teste['tweet_text'][21]\n",
        "texto_positivo"
      ],
      "execution_count": null,
      "outputs": [
        {
          "output_type": "execute_result",
          "data": {
            "text/plain": [
              "'  fico feliz sabendo q recíproco emocaopositiva'"
            ],
            "application/vnd.google.colaboratory.intrinsic+json": {
              "type": "string"
            }
          },
          "metadata": {},
          "execution_count": 60
        }
      ]
    },
    {
      "cell_type": "code",
      "metadata": {
        "id": "NRJW5li7Bpij",
        "colab": {
          "base_uri": "https://localhost:8080/"
        },
        "outputId": "320432ad-97bc-4f98-d462-20d8473b724c"
      },
      "source": [
        "previsao = modelo_carregado(texto_positivo)\n",
        "previsao"
      ],
      "execution_count": null,
      "outputs": [
        {
          "output_type": "execute_result",
          "data": {
            "text/plain": [
              "  fico feliz sabendo q recíproco emocaopositiva"
            ]
          },
          "metadata": {},
          "execution_count": 61
        }
      ]
    },
    {
      "cell_type": "code",
      "metadata": {
        "id": "_XtuIsoMBuz8",
        "colab": {
          "base_uri": "https://localhost:8080/"
        },
        "outputId": "18cb2950-56bf-4914-9ba9-f701b4668252"
      },
      "source": [
        "previsao.cats"
      ],
      "execution_count": null,
      "outputs": [
        {
          "output_type": "execute_result",
          "data": {
            "text/plain": [
              "{'POSITIVO': 0.9999996423721313, 'NEGATIVO': 3.000238564254687e-07}"
            ]
          },
          "metadata": {},
          "execution_count": 62
        }
      ]
    },
    {
      "cell_type": "code",
      "metadata": {
        "id": "wKdZht7PB1cJ",
        "colab": {
          "base_uri": "https://localhost:8080/",
          "height": 36
        },
        "outputId": "e1c5e6c3-d615-44f8-cabb-9102d22ea8ff"
      },
      "source": [
        "texto_positivo = 'eu gosto muito de você'\n",
        "texto_positivo = preprocessamento(texto_positivo)\n",
        "texto_positivo"
      ],
      "execution_count": null,
      "outputs": [
        {
          "output_type": "execute_result",
          "data": {
            "text/plain": [
              "'gosto'"
            ],
            "application/vnd.google.colaboratory.intrinsic+json": {
              "type": "string"
            }
          },
          "metadata": {},
          "execution_count": 63
        }
      ]
    },
    {
      "cell_type": "code",
      "metadata": {
        "id": "GFDF7coVCC4c",
        "colab": {
          "base_uri": "https://localhost:8080/"
        },
        "outputId": "7595997d-a464-440d-d4da-2608dc039e43"
      },
      "source": [
        "modelo_carregado(texto_positivo).cats"
      ],
      "execution_count": null,
      "outputs": [
        {
          "output_type": "execute_result",
          "data": {
            "text/plain": [
              "{'POSITIVO': 0.8159019947052002, 'NEGATIVO': 0.1840980052947998}"
            ]
          },
          "metadata": {},
          "execution_count": 64
        }
      ]
    },
    {
      "cell_type": "markdown",
      "metadata": {
        "id": "eavhsiJ4weg6"
      },
      "source": [
        "## Texto negativo"
      ]
    },
    {
      "cell_type": "code",
      "metadata": {
        "id": "Luyzv_ZcCY9p",
        "colab": {
          "base_uri": "https://localhost:8080/",
          "height": 36
        },
        "outputId": "e556e213-b73e-4966-f08b-baf0121c9958"
      },
      "source": [
        "base_teste['tweet_text'][4000]"
      ],
      "execution_count": null,
      "outputs": [
        {
          "output_type": "execute_result",
          "data": {
            "text/plain": [
              "'tô triste filme mulan mushu emocaonegativa'"
            ],
            "application/vnd.google.colaboratory.intrinsic+json": {
              "type": "string"
            }
          },
          "metadata": {},
          "execution_count": 65
        }
      ]
    },
    {
      "cell_type": "code",
      "metadata": {
        "id": "GgpAm0JFCggN",
        "colab": {
          "base_uri": "https://localhost:8080/"
        },
        "outputId": "79fff77a-d306-42fe-e670-24149ed5b58b"
      },
      "source": [
        "texto_negativo = base_teste['tweet_text'][4000]\n",
        "previsao = modelo_carregado(texto_negativo)\n",
        "previsao.cats"
      ],
      "execution_count": null,
      "outputs": [
        {
          "output_type": "execute_result",
          "data": {
            "text/plain": [
              "{'POSITIVO': 5.741631525779667e-08, 'NEGATIVO': 1.0}"
            ]
          },
          "metadata": {},
          "execution_count": 66
        }
      ]
    },
    {
      "cell_type": "markdown",
      "metadata": {
        "id": "KhF2vtEsnlpM"
      },
      "source": [
        "# Avaliação do modelo"
      ]
    },
    {
      "cell_type": "code",
      "metadata": {
        "id": "AwmnAwRcF1sD"
      },
      "source": [
        "previsoes = []\n",
        "for texto in base_teste['tweet_text']:\n",
        "  previsao = modelo_carregado(texto)\n",
        "  previsoes.append(previsao.cats)"
      ],
      "execution_count": null,
      "outputs": []
    },
    {
      "cell_type": "code",
      "metadata": {
        "id": "Y7MpSvS4F8xv"
      },
      "source": [
        "previsoes_final = []\n",
        "for previsao in previsoes:\n",
        "  if previsao['POSITIVO'] > previsao['NEGATIVO']:\n",
        "    previsoes_final.append(1)\n",
        "  else:\n",
        "    previsoes_final.append(0)\n",
        "\n",
        "previsoes_final = np.array(previsoes_final)"
      ],
      "execution_count": null,
      "outputs": []
    },
    {
      "cell_type": "code",
      "metadata": {
        "id": "rgoCy1SXGEkw"
      },
      "source": [
        "respostas_reais = base_teste['sentiment'].values"
      ],
      "execution_count": null,
      "outputs": []
    },
    {
      "cell_type": "code",
      "metadata": {
        "id": "HbpqmtMlGJ0T",
        "colab": {
          "base_uri": "https://localhost:8080/"
        },
        "outputId": "d5ae3114-efe5-4fe5-8073-4bcfb22f705b"
      },
      "source": [
        "from sklearn.metrics import accuracy_score\n",
        "accuracy_score(respostas_reais, previsoes_final)"
      ],
      "execution_count": null,
      "outputs": [
        {
          "output_type": "execute_result",
          "data": {
            "text/plain": [
              "0.997"
            ]
          },
          "metadata": {},
          "execution_count": 70
        }
      ]
    },
    {
      "cell_type": "code",
      "metadata": {
        "id": "noYdfAJ0GQAF",
        "colab": {
          "base_uri": "https://localhost:8080/"
        },
        "outputId": "cc62a0b0-592d-49e4-a80c-873294239fb5"
      },
      "source": [
        "from sklearn.metrics import confusion_matrix\n",
        "cm = confusion_matrix(respostas_reais, previsoes_final)\n",
        "cm"
      ],
      "execution_count": null,
      "outputs": [
        {
          "output_type": "execute_result",
          "data": {
            "text/plain": [
              "array([[2493,    7],\n",
              "       [   8, 2492]])"
            ]
          },
          "metadata": {},
          "execution_count": 71
        }
      ]
    },
    {
      "cell_type": "code",
      "metadata": {
        "id": "WCe0F3G8zQkW",
        "colab": {
          "base_uri": "https://localhost:8080/",
          "height": 448
        },
        "outputId": "8f822534-be22-4339-8521-ef85461f2397"
      },
      "source": [
        "sns.heatmap(cm, annot=True)"
      ],
      "execution_count": null,
      "outputs": [
        {
          "output_type": "execute_result",
          "data": {
            "text/plain": [
              "<Axes: >"
            ]
          },
          "metadata": {},
          "execution_count": 72
        },
        {
          "output_type": "display_data",
          "data": {
            "text/plain": [
              "<Figure size 640x480 with 2 Axes>"
            ],
            "image/png": "[encoded data removed]"
          },
          "metadata": {}
        }
      ]
    }
  ]
}